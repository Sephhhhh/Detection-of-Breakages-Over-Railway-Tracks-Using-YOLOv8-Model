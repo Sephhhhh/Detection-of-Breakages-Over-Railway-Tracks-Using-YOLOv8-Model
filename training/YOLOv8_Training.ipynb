{
  "cells": [
    {
      "cell_type": "markdown",
      "metadata": {
        "id": "FyRdDYkqAKN4"
      },
      "source": [
        "## Environment Setup\n"
      ]
    },
    {
      "cell_type": "code",
      "execution_count": null,
      "metadata": {
        "colab": {
          "base_uri": "https://localhost:8080/"
        },
        "id": "Y8cDtxLIBHgQ",
        "outputId": "c3806733-d397-468f-9649-07a2c5280188"
      },
      "outputs": [
        {
          "output_type": "stream",
          "name": "stdout",
          "text": [
            "Tue Nov 28 23:49:40 2023       \n",
            "+-----------------------------------------------------------------------------+\n",
            "| NVIDIA-SMI 525.105.17   Driver Version: 525.105.17   CUDA Version: 12.0     |\n",
            "|-------------------------------+----------------------+----------------------+\n",
            "| GPU  Name        Persistence-M| Bus-Id        Disp.A | Volatile Uncorr. ECC |\n",
            "| Fan  Temp  Perf  Pwr:Usage/Cap|         Memory-Usage | GPU-Util  Compute M. |\n",
            "|                               |                      |               MIG M. |\n",
            "|===============================+======================+======================|\n",
            "|   0  Tesla T4            Off  | 00000000:00:04.0 Off |                    0 |\n",
            "| N/A   57C    P8    10W /  70W |      0MiB / 15360MiB |      0%      Default |\n",
            "|                               |                      |                  N/A |\n",
            "+-------------------------------+----------------------+----------------------+\n",
            "                                                                               \n",
            "+-----------------------------------------------------------------------------+\n",
            "| Processes:                                                                  |\n",
            "|  GPU   GI   CI        PID   Type   Process name                  GPU Memory |\n",
            "|        ID   ID                                                   Usage      |\n",
            "|=============================================================================|\n",
            "|  No running processes found                                                 |\n",
            "+-----------------------------------------------------------------------------+\n"
          ]
        }
      ],
      "source": [
        "!nvidia-smi"
      ]
    },
    {
      "cell_type": "code",
      "execution_count": null,
      "metadata": {
        "colab": {
          "base_uri": "https://localhost:8080/"
        },
        "id": "CjpPg4mGKc1v",
        "outputId": "321307a9-223a-4709-8bb2-cdf5dc46f4d6"
      },
      "outputs": [
        {
          "output_type": "stream",
          "name": "stdout",
          "text": [
            "/content\n"
          ]
        }
      ],
      "source": [
        "import os\n",
        "HOME = os.getcwd()\n",
        "print(HOME)"
      ]
    },
    {
      "cell_type": "code",
      "execution_count": null,
      "metadata": {
        "colab": {
          "base_uri": "https://localhost:8080/"
        },
        "id": "yUs2Yx7Xkg6T",
        "outputId": "884f9383-6a49-4b8b-ac40-ac410dd2e9b1"
      },
      "outputs": [
        {
          "output_type": "stream",
          "name": "stdout",
          "text": [
            "Mounted at /content/drive/\n"
          ]
        }
      ],
      "source": [
        "from google.colab import drive\n",
        "\n",
        "drive.mount('/content/drive/')"
      ]
    },
    {
      "cell_type": "code",
      "execution_count": null,
      "metadata": {
        "colab": {
          "base_uri": "https://localhost:8080/"
        },
        "id": "tdSMcABDNKW-",
        "outputId": "2e69b7ed-3709-40f4-bcf8-580bac05fb04"
      },
      "outputs": [
        {
          "output_type": "stream",
          "name": "stderr",
          "text": [
            "Ultralytics YOLOv8.0.196 🚀 Python-3.10.12 torch-2.1.0+cu118 CUDA:0 (Tesla T4, 15102MiB)\n",
            "Setup complete ✅ (2 CPUs, 12.7 GB RAM, 26.9/166.8 GB disk)\n"
          ]
        }
      ],
      "source": [
        "# Pip install method (recommended)\n",
        "\n",
        "!pip install ultralytics==8.0.196\n",
        "\n",
        "from IPython import display\n",
        "display.clear_output()\n",
        "\n",
        "import ultralytics\n",
        "ultralytics.checks()"
      ]
    },
    {
      "cell_type": "code",
      "execution_count": null,
      "metadata": {
        "id": "wNYTIfxMQOmZ"
      },
      "outputs": [],
      "source": [
        "from ultralytics import YOLO\n",
        "from ultralytics import utils\n",
        "\n",
        "from IPython.display import display, Image"
      ]
    },
    {
      "cell_type": "code",
      "execution_count": null,
      "metadata": {
        "colab": {
          "base_uri": "https://localhost:8080/"
        },
        "id": "BSd93ZJzZZKt",
        "outputId": "b23844d4-b051-433b-e445-466a29f23c55"
      },
      "outputs": [
        {
          "output_type": "stream",
          "name": "stdout",
          "text": [
            "/content/datasets\n",
            "\u001b[2K     \u001b[90m━━━━━━━━━━━━━━━━━━━━━━━━━━━━━━━━━━━━━━━━\u001b[0m \u001b[32m63.3/63.3 kB\u001b[0m \u001b[31m1.9 MB/s\u001b[0m eta \u001b[36m0:00:00\u001b[0m\n",
            "\u001b[2K     \u001b[90m━━━━━━━━━━━━━━━━━━━━━━━━━━━━━━━━━━━━━━━━\u001b[0m \u001b[32m178.7/178.7 kB\u001b[0m \u001b[31m6.9 MB/s\u001b[0m eta \u001b[36m0:00:00\u001b[0m\n",
            "\u001b[2K     \u001b[90m━━━━━━━━━━━━━━━━━━━━━━━━━━━━━━━━━━━━━━━━\u001b[0m \u001b[32m58.8/58.8 kB\u001b[0m \u001b[31m7.9 MB/s\u001b[0m eta \u001b[36m0:00:00\u001b[0m\n",
            "\u001b[2K     \u001b[90m━━━━━━━━━━━━━━━━━━━━━━━━━━━━━━━━━━━━━━━━\u001b[0m \u001b[32m49.1/49.1 MB\u001b[0m \u001b[31m18.8 MB/s\u001b[0m eta \u001b[36m0:00:00\u001b[0m\n",
            "\u001b[2K     \u001b[90m━━━━━━━━━━━━━━━━━━━━━━━━━━━━━━━━━━━━━━━━\u001b[0m \u001b[32m67.8/67.8 kB\u001b[0m \u001b[31m8.3 MB/s\u001b[0m eta \u001b[36m0:00:00\u001b[0m\n",
            "\u001b[2K     \u001b[90m━━━━━━━━━━━━━━━━━━━━━━━━━━━━━━━━━━━━━━━━\u001b[0m \u001b[32m72.2/72.2 kB\u001b[0m \u001b[31m9.1 MB/s\u001b[0m eta \u001b[36m0:00:00\u001b[0m\n",
            "\u001b[2K     \u001b[90m━━━━━━━━━━━━━━━━━━━━━━━━━━━━━━━━━━━━━━━━\u001b[0m \u001b[32m54.5/54.5 kB\u001b[0m \u001b[31m6.8 MB/s\u001b[0m eta \u001b[36m0:00:00\u001b[0m\n",
            "loading Roboflow workspace...\n",
            "loading Roboflow project...\n"
          ]
        },
        {
          "output_type": "stream",
          "name": "stderr",
          "text": [
            "Downloading Dataset Version Zip in Railway-Crack-Detection-10 to yolov8:: 100%|██████████| 578601/578601 [00:30<00:00, 18928.02it/s]"
          ]
        },
        {
          "output_type": "stream",
          "name": "stdout",
          "text": [
            "\n"
          ]
        },
        {
          "output_type": "stream",
          "name": "stderr",
          "text": [
            "\n",
            "Extracting Dataset Version Zip to Railway-Crack-Detection-10 in yolov8:: 100%|██████████| 4408/4408 [00:02<00:00, 2146.34it/s]\n"
          ]
        }
      ],
      "source": [
        "!mkdir {HOME}/datasets\n",
        "%cd {HOME}/datasets\n",
        "\n",
        "!pip install roboflow --quiet\n",
        "\n",
        "from roboflow import Roboflow\n",
        "rf = Roboflow(api_key=\"j4oHBD3msAlUlJvXwsHz\")\n",
        "project = rf.workspace(\"thesis-group\").project(\"railway-crack-detection\")\n",
        "dataset = project.version(10).download(\"yolov8\")\n"
      ]
    },
    {
      "cell_type": "markdown",
      "metadata": {
        "id": "YUjFBKKqXa-u"
      },
      "source": [
        "## Model Training"
      ]
    },
    {
      "cell_type": "code",
      "execution_count": null,
      "metadata": {
        "colab": {
          "base_uri": "https://localhost:8080/"
        },
        "id": "D2YkphuiaE7_",
        "outputId": "672d6ed9-fe71-4ae7-efaa-ff05297d9d1a"
      },
      "outputs": [
        {
          "output_type": "stream",
          "name": "stdout",
          "text": [
            "/content\n",
            "Downloading https://github.com/ultralytics/assets/releases/download/v0.0.0/yolov8x.pt to 'yolov8x.pt'...\n",
            "100% 131M/131M [00:00<00:00, 349MB/s]\n",
            "Transferred 595/595 items from pretrained weights\n",
            "New https://pypi.org/project/ultralytics/8.0.219 available 😃 Update with 'pip install -U ultralytics'\n",
            "Ultralytics YOLOv8.0.196 🚀 Python-3.10.12 torch-2.1.0+cu118 CUDA:0 (Tesla T4, 15102MiB)\n",
            "\u001b[34m\u001b[1mengine/trainer: \u001b[0mtask=detect, mode=train, model=yolov8x.pt, data=/content/datasets/Railway-Crack-Detection-10/data.yaml, epochs=100, patience=50, batch=13, imgsz=640, save=True, save_period=-1, cache=False, device=None, workers=8, project=None, name=None, exist_ok=False, pretrained=yolov8x.pt, optimizer=auto, verbose=True, seed=0, deterministic=True, single_cls=False, rect=False, cos_lr=False, close_mosaic=10, resume=False, amp=True, fraction=1.0, profile=False, freeze=None, overlap_mask=True, mask_ratio=4, dropout=0.0, val=True, split=val, save_json=False, save_hybrid=False, conf=None, iou=0.7, max_det=300, half=False, dnn=False, plots=True, source=None, show=False, save_txt=False, save_conf=False, save_crop=False, show_labels=True, show_conf=True, vid_stride=1, stream_buffer=False, line_width=None, visualize=False, augment=False, agnostic_nms=False, classes=None, retina_masks=False, boxes=True, format=torchscript, keras=False, optimize=False, int8=False, dynamic=False, simplify=False, opset=None, workspace=4, nms=False, lr0=0.01, lrf=0.01, momentum=0.937, weight_decay=0.0005, warmup_epochs=3.0, warmup_momentum=0.8, warmup_bias_lr=0.1, box=7.5, cls=0.5, dfl=1.5, pose=12.0, kobj=1.0, label_smoothing=0.0, nbs=64, hsv_h=0.015, hsv_s=0.7, hsv_v=0.4, degrees=0.0, translate=0.1, scale=0.5, shear=0.0, perspective=0.0, flipud=0.0, fliplr=0.5, mosaic=1.0, mixup=0.0, copy_paste=0.0, cfg=None, tracker=botsort.yaml, save_dir=runs/detect/train\n",
            "Downloading https://ultralytics.com/assets/Arial.ttf to '/root/.config/Ultralytics/Arial.ttf'...\n",
            "100% 755k/755k [00:00<00:00, 111MB/s]\n",
            "2023-11-28 23:51:18.851121: E tensorflow/compiler/xla/stream_executor/cuda/cuda_dnn.cc:9342] Unable to register cuDNN factory: Attempting to register factory for plugin cuDNN when one has already been registered\n",
            "2023-11-28 23:51:18.851180: E tensorflow/compiler/xla/stream_executor/cuda/cuda_fft.cc:609] Unable to register cuFFT factory: Attempting to register factory for plugin cuFFT when one has already been registered\n",
            "2023-11-28 23:51:18.851237: E tensorflow/compiler/xla/stream_executor/cuda/cuda_blas.cc:1518] Unable to register cuBLAS factory: Attempting to register factory for plugin cuBLAS when one has already been registered\n",
            "Overriding model.yaml nc=80 with nc=1\n",
            "\n",
            "                   from  n    params  module                                       arguments                     \n",
            "  0                  -1  1      2320  ultralytics.nn.modules.conv.Conv             [3, 80, 3, 2]                 \n",
            "  1                  -1  1    115520  ultralytics.nn.modules.conv.Conv             [80, 160, 3, 2]               \n",
            "  2                  -1  3    436800  ultralytics.nn.modules.block.C2f             [160, 160, 3, True]           \n",
            "  3                  -1  1    461440  ultralytics.nn.modules.conv.Conv             [160, 320, 3, 2]              \n",
            "  4                  -1  6   3281920  ultralytics.nn.modules.block.C2f             [320, 320, 6, True]           \n",
            "  5                  -1  1   1844480  ultralytics.nn.modules.conv.Conv             [320, 640, 3, 2]              \n",
            "  6                  -1  6  13117440  ultralytics.nn.modules.block.C2f             [640, 640, 6, True]           \n",
            "  7                  -1  1   3687680  ultralytics.nn.modules.conv.Conv             [640, 640, 3, 2]              \n",
            "  8                  -1  3   6969600  ultralytics.nn.modules.block.C2f             [640, 640, 3, True]           \n",
            "  9                  -1  1   1025920  ultralytics.nn.modules.block.SPPF            [640, 640, 5]                 \n",
            " 10                  -1  1         0  torch.nn.modules.upsampling.Upsample         [None, 2, 'nearest']          \n",
            " 11             [-1, 6]  1         0  ultralytics.nn.modules.conv.Concat           [1]                           \n",
            " 12                  -1  3   7379200  ultralytics.nn.modules.block.C2f             [1280, 640, 3]                \n",
            " 13                  -1  1         0  torch.nn.modules.upsampling.Upsample         [None, 2, 'nearest']          \n",
            " 14             [-1, 4]  1         0  ultralytics.nn.modules.conv.Concat           [1]                           \n",
            " 15                  -1  3   1948800  ultralytics.nn.modules.block.C2f             [960, 320, 3]                 \n",
            " 16                  -1  1    922240  ultralytics.nn.modules.conv.Conv             [320, 320, 3, 2]              \n",
            " 17            [-1, 12]  1         0  ultralytics.nn.modules.conv.Concat           [1]                           \n",
            " 18                  -1  3   7174400  ultralytics.nn.modules.block.C2f             [960, 640, 3]                 \n",
            " 19                  -1  1   3687680  ultralytics.nn.modules.conv.Conv             [640, 640, 3, 2]              \n",
            " 20             [-1, 9]  1         0  ultralytics.nn.modules.conv.Concat           [1]                           \n",
            " 21                  -1  3   7379200  ultralytics.nn.modules.block.C2f             [1280, 640, 3]                \n",
            " 22        [15, 18, 21]  1   8718931  ultralytics.nn.modules.head.Detect           [1, [320, 640, 640]]          \n",
            "Model summary: 365 layers, 68153571 parameters, 68153555 gradients, 258.1 GFLOPs\n",
            "\n",
            "Transferred 589/595 items from pretrained weights\n",
            "\u001b[34m\u001b[1mTensorBoard: \u001b[0mStart with 'tensorboard --logdir runs/detect/train', view at http://localhost:6006/\n",
            "Freezing layer 'model.22.dfl.conv.weight'\n",
            "\u001b[34m\u001b[1mAMP: \u001b[0mrunning Automatic Mixed Precision (AMP) checks with YOLOv8n...\n",
            "Downloading https://github.com/ultralytics/assets/releases/download/v0.0.0/yolov8n.pt to 'yolov8n.pt'...\n",
            "100% 6.23M/6.23M [00:00<00:00, 272MB/s]\n",
            "\u001b[34m\u001b[1mAMP: \u001b[0mchecks passed ✅\n",
            "\u001b[34m\u001b[1mtrain: \u001b[0mScanning /content/datasets/Railway-Crack-Detection-10/train/labels... 1926 images, 421 backgrounds, 0 corrupt: 100% 1926/1926 [00:00<00:00, 2413.46it/s]\n",
            "\u001b[34m\u001b[1mtrain: \u001b[0mNew cache created: /content/datasets/Railway-Crack-Detection-10/train/labels.cache\n",
            "\u001b[34m\u001b[1malbumentations: \u001b[0mBlur(p=0.01, blur_limit=(3, 7)), MedianBlur(p=0.01, blur_limit=(3, 7)), ToGray(p=0.01), CLAHE(p=0.01, clip_limit=(1, 4.0), tile_grid_size=(8, 8))\n",
            "\u001b[34m\u001b[1mval: \u001b[0mScanning /content/datasets/Railway-Crack-Detection-10/valid/labels... 183 images, 40 backgrounds, 0 corrupt: 100% 183/183 [00:00<00:00, 954.10it/s]\n",
            "\u001b[34m\u001b[1mval: \u001b[0mNew cache created: /content/datasets/Railway-Crack-Detection-10/valid/labels.cache\n",
            "Plotting labels to runs/detect/train/labels.jpg... \n",
            "\u001b[34m\u001b[1moptimizer:\u001b[0m 'optimizer=auto' found, ignoring 'lr0=0.01' and 'momentum=0.937' and determining best 'optimizer', 'lr0' and 'momentum' automatically... \n",
            "\u001b[34m\u001b[1moptimizer:\u001b[0m AdamW(lr=0.002, momentum=0.9) with parameter groups 97 weight(decay=0.0), 104 weight(decay=0.0005078125), 103 bias(decay=0.0)\n",
            "Image sizes 640 train, 640 val\n",
            "Using 2 dataloader workers\n",
            "Logging results to \u001b[1mruns/detect/train\u001b[0m\n",
            "Starting training for 100 epochs...\n",
            "\n",
            "      Epoch    GPU_mem   box_loss   cls_loss   dfl_loss  Instances       Size\n",
            "      1/100        11G       2.56      3.553      2.533          4        640: 100% 149/149 [02:30<00:00,  1.01s/it]\n",
            "                 Class     Images  Instances      Box(P          R      mAP50  mAP50-95): 100% 8/8 [00:07<00:00,  1.13it/s]\n",
            "                   all        183        174    0.00525      0.046   0.000757   0.000283\n",
            "\n",
            "      Epoch    GPU_mem   box_loss   cls_loss   dfl_loss  Instances       Size\n",
            "      2/100      11.5G      2.435      3.146      2.482          2        640: 100% 149/149 [02:27<00:00,  1.01it/s]\n",
            "                 Class     Images  Instances      Box(P          R      mAP50  mAP50-95): 100% 8/8 [00:05<00:00,  1.46it/s]\n",
            "                   all        183        174     0.0824      0.178      0.033     0.0127\n",
            "\n",
            "      Epoch    GPU_mem   box_loss   cls_loss   dfl_loss  Instances       Size\n",
            "      3/100      11.6G      2.365      2.965      2.455          4        640: 100% 149/149 [02:26<00:00,  1.02it/s]\n",
            "                 Class     Images  Instances      Box(P          R      mAP50  mAP50-95): 100% 8/8 [00:05<00:00,  1.46it/s]\n",
            "                   all        183        174      0.334      0.319      0.259      0.122\n",
            "\n",
            "      Epoch    GPU_mem   box_loss   cls_loss   dfl_loss  Instances       Size\n",
            "      4/100      11.6G      2.327      2.866      2.406          8        640: 100% 149/149 [02:25<00:00,  1.02it/s]\n",
            "                 Class     Images  Instances      Box(P          R      mAP50  mAP50-95): 100% 8/8 [00:05<00:00,  1.42it/s]\n",
            "                   all        183        174      0.503      0.362      0.292      0.127\n",
            "\n",
            "      Epoch    GPU_mem   box_loss   cls_loss   dfl_loss  Instances       Size\n",
            "      5/100      11.7G      2.228      2.662      2.361          1        640: 100% 149/149 [02:25<00:00,  1.03it/s]\n",
            "                 Class     Images  Instances      Box(P          R      mAP50  mAP50-95): 100% 8/8 [00:05<00:00,  1.36it/s]\n",
            "                   all        183        174      0.448        0.5      0.444       0.18\n",
            "\n",
            "      Epoch    GPU_mem   box_loss   cls_loss   dfl_loss  Instances       Size\n",
            "      6/100      11.7G      2.191      2.556      2.319          4        640: 100% 149/149 [02:25<00:00,  1.03it/s]\n",
            "                 Class     Images  Instances      Box(P          R      mAP50  mAP50-95): 100% 8/8 [00:05<00:00,  1.45it/s]\n",
            "                   all        183        174      0.567      0.477      0.465      0.221\n",
            "\n",
            "      Epoch    GPU_mem   box_loss   cls_loss   dfl_loss  Instances       Size\n",
            "      7/100      11.7G      2.181      2.555      2.306          3        640: 100% 149/149 [02:25<00:00,  1.02it/s]\n",
            "                 Class     Images  Instances      Box(P          R      mAP50  mAP50-95): 100% 8/8 [00:05<00:00,  1.57it/s]\n",
            "                   all        183        174      0.425      0.431      0.331      0.142\n",
            "\n",
            "      Epoch    GPU_mem   box_loss   cls_loss   dfl_loss  Instances       Size\n",
            "      8/100      11.6G      2.104      2.417      2.225          1        640: 100% 149/149 [02:25<00:00,  1.02it/s]\n",
            "                 Class     Images  Instances      Box(P          R      mAP50  mAP50-95): 100% 8/8 [00:05<00:00,  1.58it/s]\n",
            "                   all        183        174      0.502      0.615      0.486      0.251\n",
            "\n",
            "      Epoch    GPU_mem   box_loss   cls_loss   dfl_loss  Instances       Size\n",
            "      9/100      11.6G      2.079      2.358      2.215          7        640: 100% 149/149 [02:25<00:00,  1.02it/s]\n",
            "                 Class     Images  Instances      Box(P          R      mAP50  mAP50-95): 100% 8/8 [00:05<00:00,  1.41it/s]\n",
            "                   all        183        174       0.48       0.54      0.462      0.188\n",
            "\n",
            "      Epoch    GPU_mem   box_loss   cls_loss   dfl_loss  Instances       Size\n",
            "     10/100      11.7G      2.043      2.315      2.199          8        640: 100% 149/149 [02:25<00:00,  1.03it/s]\n",
            "                 Class     Images  Instances      Box(P          R      mAP50  mAP50-95): 100% 8/8 [00:05<00:00,  1.58it/s]\n",
            "                   all        183        174      0.422      0.356      0.294      0.135\n",
            "\n",
            "      Epoch    GPU_mem   box_loss   cls_loss   dfl_loss  Instances       Size\n",
            "     11/100      11.7G      2.043      2.292      2.162          2        640: 100% 149/149 [02:24<00:00,  1.03it/s]\n",
            "                 Class     Images  Instances      Box(P          R      mAP50  mAP50-95): 100% 8/8 [00:05<00:00,  1.57it/s]\n",
            "                   all        183        174      0.546      0.586      0.512      0.256\n",
            "\n",
            "      Epoch    GPU_mem   box_loss   cls_loss   dfl_loss  Instances       Size\n",
            "     12/100      11.7G      2.016       2.25      2.142          4        640: 100% 149/149 [02:25<00:00,  1.03it/s]\n",
            "                 Class     Images  Instances      Box(P          R      mAP50  mAP50-95): 100% 8/8 [00:05<00:00,  1.56it/s]\n",
            "                   all        183        174      0.671      0.621      0.641      0.317\n",
            "\n",
            "      Epoch    GPU_mem   box_loss   cls_loss   dfl_loss  Instances       Size\n",
            "     13/100      11.6G      1.995      2.188      2.115          5        640: 100% 149/149 [02:25<00:00,  1.03it/s]\n",
            "                 Class     Images  Instances      Box(P          R      mAP50  mAP50-95): 100% 8/8 [00:05<00:00,  1.53it/s]\n",
            "                   all        183        174      0.633      0.517      0.567      0.279\n",
            "\n",
            "      Epoch    GPU_mem   box_loss   cls_loss   dfl_loss  Instances       Size\n",
            "     14/100      11.6G       1.97      2.158      2.097          2        640: 100% 149/149 [02:25<00:00,  1.03it/s]\n",
            "                 Class     Images  Instances      Box(P          R      mAP50  mAP50-95): 100% 8/8 [00:05<00:00,  1.57it/s]\n",
            "                   all        183        174      0.604      0.517      0.492      0.246\n",
            "\n",
            "      Epoch    GPU_mem   box_loss   cls_loss   dfl_loss  Instances       Size\n",
            "     15/100      11.6G      1.963      2.142      2.082          5        640: 100% 149/149 [02:25<00:00,  1.03it/s]\n",
            "                 Class     Images  Instances      Box(P          R      mAP50  mAP50-95): 100% 8/8 [00:05<00:00,  1.37it/s]\n",
            "                   all        183        174      0.649      0.553      0.548      0.299\n",
            "\n",
            "      Epoch    GPU_mem   box_loss   cls_loss   dfl_loss  Instances       Size\n",
            "     16/100      11.7G      1.942      2.078      2.075          5        640: 100% 149/149 [02:25<00:00,  1.03it/s]\n",
            "                 Class     Images  Instances      Box(P          R      mAP50  mAP50-95): 100% 8/8 [00:05<00:00,  1.60it/s]\n",
            "                   all        183        174      0.727      0.569      0.616      0.296\n",
            "\n",
            "      Epoch    GPU_mem   box_loss   cls_loss   dfl_loss  Instances       Size\n",
            "     17/100      11.7G      1.934       2.08      2.075          6        640: 100% 149/149 [02:25<00:00,  1.02it/s]\n",
            "                 Class     Images  Instances      Box(P          R      mAP50  mAP50-95): 100% 8/8 [00:05<00:00,  1.54it/s]\n",
            "                   all        183        174      0.797      0.632      0.664      0.335\n",
            "\n",
            "      Epoch    GPU_mem   box_loss   cls_loss   dfl_loss  Instances       Size\n",
            "     18/100      11.6G       1.91      2.036      2.056          6        640: 100% 149/149 [02:25<00:00,  1.02it/s]\n",
            "                 Class     Images  Instances      Box(P          R      mAP50  mAP50-95): 100% 8/8 [00:05<00:00,  1.41it/s]\n",
            "                   all        183        174       0.68      0.672      0.636      0.333\n",
            "\n",
            "      Epoch    GPU_mem   box_loss   cls_loss   dfl_loss  Instances       Size\n",
            "     19/100      11.6G      1.916      2.031      2.037          5        640: 100% 149/149 [02:25<00:00,  1.02it/s]\n",
            "                 Class     Images  Instances      Box(P          R      mAP50  mAP50-95): 100% 8/8 [00:05<00:00,  1.44it/s]\n",
            "                   all        183        174      0.753      0.626      0.612      0.322\n",
            "\n",
            "      Epoch    GPU_mem   box_loss   cls_loss   dfl_loss  Instances       Size\n",
            "     20/100      11.6G      1.905      1.998      2.047          7        640: 100% 149/149 [02:25<00:00,  1.02it/s]\n",
            "                 Class     Images  Instances      Box(P          R      mAP50  mAP50-95): 100% 8/8 [00:05<00:00,  1.58it/s]\n",
            "                   all        183        174      0.713      0.661      0.647      0.318\n",
            "\n",
            "      Epoch    GPU_mem   box_loss   cls_loss   dfl_loss  Instances       Size\n",
            "     21/100      11.7G      1.884      1.992      2.037          4        640: 100% 149/149 [02:25<00:00,  1.03it/s]\n",
            "                 Class     Images  Instances      Box(P          R      mAP50  mAP50-95): 100% 8/8 [00:05<00:00,  1.34it/s]\n",
            "                   all        183        174      0.652      0.713       0.67      0.341\n",
            "\n",
            "      Epoch    GPU_mem   box_loss   cls_loss   dfl_loss  Instances       Size\n",
            "     22/100      11.7G      1.907      1.976      2.054          4        640: 100% 149/149 [02:25<00:00,  1.02it/s]\n",
            "                 Class     Images  Instances      Box(P          R      mAP50  mAP50-95): 100% 8/8 [00:05<00:00,  1.60it/s]\n",
            "                   all        183        174      0.716      0.684      0.722      0.365\n",
            "\n",
            "      Epoch    GPU_mem   box_loss   cls_loss   dfl_loss  Instances       Size\n",
            "     23/100      11.6G      1.863      1.956      2.007          6        640: 100% 149/149 [02:25<00:00,  1.02it/s]\n",
            "                 Class     Images  Instances      Box(P          R      mAP50  mAP50-95): 100% 8/8 [00:05<00:00,  1.47it/s]\n",
            "                   all        183        174      0.685      0.621      0.644      0.313\n",
            "\n",
            "      Epoch    GPU_mem   box_loss   cls_loss   dfl_loss  Instances       Size\n",
            "     24/100      11.6G      1.837      1.939      1.987          2        640: 100% 149/149 [02:25<00:00,  1.03it/s]\n",
            "                 Class     Images  Instances      Box(P          R      mAP50  mAP50-95): 100% 8/8 [00:05<00:00,  1.58it/s]\n",
            "                   all        183        174      0.569      0.598       0.55      0.284\n",
            "\n",
            "      Epoch    GPU_mem   box_loss   cls_loss   dfl_loss  Instances       Size\n",
            "     25/100      11.6G      1.854      1.882      1.967          4        640: 100% 149/149 [02:25<00:00,  1.03it/s]\n",
            "                 Class     Images  Instances      Box(P          R      mAP50  mAP50-95): 100% 8/8 [00:05<00:00,  1.46it/s]\n",
            "                   all        183        174      0.719      0.649      0.694      0.358\n",
            "\n",
            "      Epoch    GPU_mem   box_loss   cls_loss   dfl_loss  Instances       Size\n",
            "     26/100      11.7G      1.842      1.919      1.987          3        640: 100% 149/149 [02:24<00:00,  1.03it/s]\n",
            "                 Class     Images  Instances      Box(P          R      mAP50  mAP50-95): 100% 8/8 [00:05<00:00,  1.56it/s]\n",
            "                   all        183        174      0.692      0.649      0.696      0.365\n",
            "\n",
            "      Epoch    GPU_mem   box_loss   cls_loss   dfl_loss  Instances       Size\n",
            "     27/100      11.7G      1.815      1.933      2.001          3        640: 100% 149/149 [02:24<00:00,  1.03it/s]\n",
            "                 Class     Images  Instances      Box(P          R      mAP50  mAP50-95): 100% 8/8 [00:05<00:00,  1.57it/s]\n",
            "                   all        183        174      0.737      0.695      0.708      0.366\n",
            "\n",
            "      Epoch    GPU_mem   box_loss   cls_loss   dfl_loss  Instances       Size\n",
            "     28/100      11.6G      1.807      1.857       1.98          1        640: 100% 149/149 [02:25<00:00,  1.03it/s]\n",
            "                 Class     Images  Instances      Box(P          R      mAP50  mAP50-95): 100% 8/8 [00:05<00:00,  1.37it/s]\n",
            "                   all        183        174      0.757      0.661      0.732      0.376\n",
            "\n",
            "      Epoch    GPU_mem   box_loss   cls_loss   dfl_loss  Instances       Size\n",
            "     29/100      11.6G      1.814       1.83      1.959          4        640: 100% 149/149 [02:25<00:00,  1.02it/s]\n",
            "                 Class     Images  Instances      Box(P          R      mAP50  mAP50-95): 100% 8/8 [00:05<00:00,  1.38it/s]\n",
            "                   all        183        174      0.781      0.678      0.735      0.381\n",
            "\n",
            "      Epoch    GPU_mem   box_loss   cls_loss   dfl_loss  Instances       Size\n",
            "     30/100      11.7G      1.827      1.878       1.99          4        640: 100% 149/149 [02:25<00:00,  1.02it/s]\n",
            "                 Class     Images  Instances      Box(P          R      mAP50  mAP50-95): 100% 8/8 [00:05<00:00,  1.45it/s]\n",
            "                   all        183        174      0.697      0.695       0.72      0.358\n",
            "\n",
            "      Epoch    GPU_mem   box_loss   cls_loss   dfl_loss  Instances       Size\n",
            "     31/100      11.7G      1.767      1.834      1.934          0        640: 100% 149/149 [02:24<00:00,  1.03it/s]\n",
            "                 Class     Images  Instances      Box(P          R      mAP50  mAP50-95): 100% 8/8 [00:05<00:00,  1.45it/s]\n",
            "                   all        183        174      0.777       0.69      0.741      0.367\n",
            "\n",
            "      Epoch    GPU_mem   box_loss   cls_loss   dfl_loss  Instances       Size\n",
            "     32/100      11.7G      1.801      1.783      1.959          6        640: 100% 149/149 [02:24<00:00,  1.03it/s]\n",
            "                 Class     Images  Instances      Box(P          R      mAP50  mAP50-95): 100% 8/8 [00:05<00:00,  1.54it/s]\n",
            "                   all        183        174      0.772      0.741      0.762      0.403\n",
            "\n",
            "      Epoch    GPU_mem   box_loss   cls_loss   dfl_loss  Instances       Size\n",
            "     33/100      11.6G      1.777      1.763      1.941          7        640: 100% 149/149 [02:25<00:00,  1.03it/s]\n",
            "                 Class     Images  Instances      Box(P          R      mAP50  mAP50-95): 100% 8/8 [00:05<00:00,  1.42it/s]\n",
            "                   all        183        174      0.701      0.747      0.704       0.36\n",
            "\n",
            "      Epoch    GPU_mem   box_loss   cls_loss   dfl_loss  Instances       Size\n",
            "     34/100      11.6G      1.766      1.755      1.938          7        640: 100% 149/149 [02:24<00:00,  1.03it/s]\n",
            "                 Class     Images  Instances      Box(P          R      mAP50  mAP50-95): 100% 8/8 [00:05<00:00,  1.42it/s]\n",
            "                   all        183        174      0.754      0.695      0.679      0.352\n",
            "\n",
            "      Epoch    GPU_mem   box_loss   cls_loss   dfl_loss  Instances       Size\n",
            "     35/100      11.7G       1.76      1.742      1.957          2        640: 100% 149/149 [02:25<00:00,  1.03it/s]\n",
            "                 Class     Images  Instances      Box(P          R      mAP50  mAP50-95): 100% 8/8 [00:05<00:00,  1.49it/s]\n",
            "                   all        183        174      0.786      0.701      0.709      0.368\n",
            "\n",
            "      Epoch    GPU_mem   box_loss   cls_loss   dfl_loss  Instances       Size\n",
            "     36/100      11.7G      1.734       1.71      1.908          3        640: 100% 149/149 [02:24<00:00,  1.03it/s]\n",
            "                 Class     Images  Instances      Box(P          R      mAP50  mAP50-95): 100% 8/8 [00:05<00:00,  1.54it/s]\n",
            "                   all        183        174      0.774      0.713      0.724       0.36\n",
            "\n",
            "      Epoch    GPU_mem   box_loss   cls_loss   dfl_loss  Instances       Size\n",
            "     37/100      11.7G      1.743      1.702      1.904          2        640: 100% 149/149 [02:25<00:00,  1.03it/s]\n",
            "                 Class     Images  Instances      Box(P          R      mAP50  mAP50-95): 100% 8/8 [00:05<00:00,  1.37it/s]\n",
            "                   all        183        174      0.796      0.693      0.731      0.365\n",
            "\n",
            "      Epoch    GPU_mem   box_loss   cls_loss   dfl_loss  Instances       Size\n",
            "     38/100      11.6G      1.741      1.729        1.9          4        640: 100% 149/149 [02:25<00:00,  1.03it/s]\n",
            "                 Class     Images  Instances      Box(P          R      mAP50  mAP50-95): 100% 8/8 [00:05<00:00,  1.49it/s]\n",
            "                   all        183        174      0.825      0.724       0.75       0.37\n",
            "\n",
            "      Epoch    GPU_mem   box_loss   cls_loss   dfl_loss  Instances       Size\n",
            "     39/100      11.6G      1.734      1.698      1.904          5        640: 100% 149/149 [02:24<00:00,  1.03it/s]\n",
            "                 Class     Images  Instances      Box(P          R      mAP50  mAP50-95): 100% 8/8 [00:05<00:00,  1.48it/s]\n",
            "                   all        183        174      0.776      0.759      0.774      0.382\n",
            "\n",
            "      Epoch    GPU_mem   box_loss   cls_loss   dfl_loss  Instances       Size\n",
            "     40/100      11.6G      1.709      1.655      1.883          3        640: 100% 149/149 [02:25<00:00,  1.03it/s]\n",
            "                 Class     Images  Instances      Box(P          R      mAP50  mAP50-95): 100% 8/8 [00:05<00:00,  1.52it/s]\n",
            "                   all        183        174      0.806      0.695      0.728      0.351\n",
            "\n",
            "      Epoch    GPU_mem   box_loss   cls_loss   dfl_loss  Instances       Size\n",
            "     41/100      11.7G      1.713      1.665      1.878          0        640: 100% 149/149 [02:24<00:00,  1.03it/s]\n",
            "                 Class     Images  Instances      Box(P          R      mAP50  mAP50-95): 100% 8/8 [00:04<00:00,  1.60it/s]\n",
            "                   all        183        174       0.75      0.701      0.708      0.363\n",
            "\n",
            "      Epoch    GPU_mem   box_loss   cls_loss   dfl_loss  Instances       Size\n",
            "     42/100      11.7G      1.717      1.634      1.888          4        640: 100% 149/149 [02:24<00:00,  1.03it/s]\n",
            "                 Class     Images  Instances      Box(P          R      mAP50  mAP50-95): 100% 8/8 [00:05<00:00,  1.57it/s]\n",
            "                   all        183        174       0.78      0.764      0.768      0.405\n",
            "\n",
            "      Epoch    GPU_mem   box_loss   cls_loss   dfl_loss  Instances       Size\n",
            "     43/100      11.6G      1.711      1.649      1.872          4        640: 100% 149/149 [02:25<00:00,  1.03it/s]\n",
            "                 Class     Images  Instances      Box(P          R      mAP50  mAP50-95): 100% 8/8 [00:05<00:00,  1.56it/s]\n",
            "                   all        183        174      0.779      0.776      0.766      0.397\n",
            "\n",
            "      Epoch    GPU_mem   box_loss   cls_loss   dfl_loss  Instances       Size\n",
            "     44/100      11.6G      1.681      1.611      1.901          5        640: 100% 149/149 [02:24<00:00,  1.03it/s]\n",
            "                 Class     Images  Instances      Box(P          R      mAP50  mAP50-95): 100% 8/8 [00:05<00:00,  1.45it/s]\n",
            "                   all        183        174      0.839      0.741      0.804      0.416\n",
            "\n",
            "      Epoch    GPU_mem   box_loss   cls_loss   dfl_loss  Instances       Size\n",
            "     45/100      11.7G        1.7      1.597      1.876          3        640: 100% 149/149 [02:24<00:00,  1.03it/s]\n",
            "                 Class     Images  Instances      Box(P          R      mAP50  mAP50-95): 100% 8/8 [00:05<00:00,  1.55it/s]\n",
            "                   all        183        174      0.832      0.742      0.754      0.379\n",
            "\n",
            "      Epoch    GPU_mem   box_loss   cls_loss   dfl_loss  Instances       Size\n",
            "     46/100      11.7G      1.679      1.582      1.856          4        640: 100% 149/149 [02:24<00:00,  1.03it/s]\n",
            "                 Class     Images  Instances      Box(P          R      mAP50  mAP50-95): 100% 8/8 [00:04<00:00,  1.61it/s]\n",
            "                   all        183        174      0.824      0.779      0.779      0.402\n",
            "\n",
            "      Epoch    GPU_mem   box_loss   cls_loss   dfl_loss  Instances       Size\n",
            "     47/100      11.7G      1.673      1.541      1.839          2        640: 100% 149/149 [02:24<00:00,  1.03it/s]\n",
            "                 Class     Images  Instances      Box(P          R      mAP50  mAP50-95): 100% 8/8 [00:04<00:00,  1.62it/s]\n",
            "                   all        183        174      0.814      0.736      0.796      0.417\n",
            "\n",
            "      Epoch    GPU_mem   box_loss   cls_loss   dfl_loss  Instances       Size\n",
            "     48/100      11.6G      1.672      1.548      1.859          4        640: 100% 149/149 [02:24<00:00,  1.03it/s]\n",
            "                 Class     Images  Instances      Box(P          R      mAP50  mAP50-95): 100% 8/8 [00:05<00:00,  1.51it/s]\n",
            "                   all        183        174       0.84      0.753      0.751      0.376\n",
            "\n",
            "      Epoch    GPU_mem   box_loss   cls_loss   dfl_loss  Instances       Size\n",
            "     49/100      11.6G      1.665      1.548      1.852          1        640: 100% 149/149 [02:24<00:00,  1.03it/s]\n",
            "                 Class     Images  Instances      Box(P          R      mAP50  mAP50-95): 100% 8/8 [00:05<00:00,  1.58it/s]\n",
            "                   all        183        174      0.866      0.695      0.771      0.385\n",
            "\n",
            "      Epoch    GPU_mem   box_loss   cls_loss   dfl_loss  Instances       Size\n",
            "     50/100      11.7G      1.658       1.53      1.867          2        640: 100% 149/149 [02:25<00:00,  1.03it/s]\n",
            "                 Class     Images  Instances      Box(P          R      mAP50  mAP50-95): 100% 8/8 [00:05<00:00,  1.45it/s]\n",
            "                   all        183        174      0.804       0.77      0.778      0.394\n",
            "\n",
            "      Epoch    GPU_mem   box_loss   cls_loss   dfl_loss  Instances       Size\n",
            "     51/100      11.7G      1.638      1.509      1.833          2        640: 100% 149/149 [02:25<00:00,  1.03it/s]\n",
            "                 Class     Images  Instances      Box(P          R      mAP50  mAP50-95): 100% 8/8 [00:05<00:00,  1.57it/s]\n",
            "                   all        183        174      0.796      0.713      0.733      0.365\n",
            "\n",
            "      Epoch    GPU_mem   box_loss   cls_loss   dfl_loss  Instances       Size\n",
            "     52/100      11.7G      1.617      1.515      1.818          2        640: 100% 149/149 [02:24<00:00,  1.03it/s]\n",
            "                 Class     Images  Instances      Box(P          R      mAP50  mAP50-95): 100% 8/8 [00:05<00:00,  1.40it/s]\n",
            "                   all        183        174      0.819       0.73      0.754      0.387\n",
            "\n",
            "      Epoch    GPU_mem   box_loss   cls_loss   dfl_loss  Instances       Size\n",
            "     53/100      11.6G      1.607      1.446      1.807          7        640: 100% 149/149 [02:25<00:00,  1.02it/s]\n",
            "                 Class     Images  Instances      Box(P          R      mAP50  mAP50-95): 100% 8/8 [00:05<00:00,  1.56it/s]\n",
            "                   all        183        174      0.802      0.741      0.765      0.387\n",
            "\n",
            "      Epoch    GPU_mem   box_loss   cls_loss   dfl_loss  Instances       Size\n",
            "     54/100      11.6G      1.631      1.448      1.821          5        640: 100% 149/149 [02:25<00:00,  1.03it/s]\n",
            "                 Class     Images  Instances      Box(P          R      mAP50  mAP50-95): 100% 8/8 [00:05<00:00,  1.56it/s]\n",
            "                   all        183        174      0.811      0.763      0.757      0.384\n",
            "\n",
            "      Epoch    GPU_mem   box_loss   cls_loss   dfl_loss  Instances       Size\n",
            "     55/100      11.6G       1.58      1.409      1.794          2        640: 100% 149/149 [02:25<00:00,  1.03it/s]\n",
            "                 Class     Images  Instances      Box(P          R      mAP50  mAP50-95): 100% 8/8 [00:05<00:00,  1.53it/s]\n",
            "                   all        183        174      0.784      0.638      0.644      0.288\n",
            "\n",
            "      Epoch    GPU_mem   box_loss   cls_loss   dfl_loss  Instances       Size\n",
            "     56/100      11.7G      1.612      1.423      1.832          3        640: 100% 149/149 [02:25<00:00,  1.03it/s]\n",
            "                 Class     Images  Instances      Box(P          R      mAP50  mAP50-95): 100% 8/8 [00:05<00:00,  1.43it/s]\n",
            "                   all        183        174      0.838      0.831      0.809      0.383\n",
            "\n",
            "      Epoch    GPU_mem   box_loss   cls_loss   dfl_loss  Instances       Size\n",
            "     57/100      11.7G      1.581      1.386      1.801          5        640: 100% 149/149 [02:25<00:00,  1.03it/s]\n",
            "                 Class     Images  Instances      Box(P          R      mAP50  mAP50-95): 100% 8/8 [00:05<00:00,  1.58it/s]\n",
            "                   all        183        174      0.826      0.765       0.78      0.378\n",
            "\n",
            "      Epoch    GPU_mem   box_loss   cls_loss   dfl_loss  Instances       Size\n",
            "     58/100      11.6G      1.584      1.366      1.785          6        640: 100% 149/149 [02:24<00:00,  1.03it/s]\n",
            "                 Class     Images  Instances      Box(P          R      mAP50  mAP50-95): 100% 8/8 [00:05<00:00,  1.57it/s]\n",
            "                   all        183        174      0.824      0.729      0.728      0.352\n",
            "\n",
            "      Epoch    GPU_mem   box_loss   cls_loss   dfl_loss  Instances       Size\n",
            "     59/100      11.6G      1.566      1.408      1.792          1        640: 100% 149/149 [02:24<00:00,  1.03it/s]\n",
            "                 Class     Images  Instances      Box(P          R      mAP50  mAP50-95): 100% 8/8 [00:05<00:00,  1.42it/s]\n",
            "                   all        183        174      0.835      0.747      0.768      0.379\n",
            "\n",
            "      Epoch    GPU_mem   box_loss   cls_loss   dfl_loss  Instances       Size\n",
            "     60/100      11.6G       1.56      1.323      1.794          3        640: 100% 149/149 [02:25<00:00,  1.03it/s]\n",
            "                 Class     Images  Instances      Box(P          R      mAP50  mAP50-95): 100% 8/8 [00:05<00:00,  1.46it/s]\n",
            "                   all        183        174      0.811      0.655      0.669      0.288\n",
            "\n",
            "      Epoch    GPU_mem   box_loss   cls_loss   dfl_loss  Instances       Size\n",
            "     61/100      11.7G      1.558      1.319      1.776          4        640: 100% 149/149 [02:25<00:00,  1.03it/s]\n",
            "                 Class     Images  Instances      Box(P          R      mAP50  mAP50-95): 100% 8/8 [00:05<00:00,  1.45it/s]\n",
            "                   all        183        174      0.855      0.781      0.773      0.364\n",
            "\n",
            "      Epoch    GPU_mem   box_loss   cls_loss   dfl_loss  Instances       Size\n",
            "     62/100      11.7G      1.534      1.323      1.759          5        640: 100% 149/149 [02:25<00:00,  1.03it/s]\n",
            "                 Class     Images  Instances      Box(P          R      mAP50  mAP50-95): 100% 8/8 [00:05<00:00,  1.58it/s]\n",
            "                   all        183        174      0.861      0.749      0.786      0.356\n",
            "\n",
            "      Epoch    GPU_mem   box_loss   cls_loss   dfl_loss  Instances       Size\n",
            "     63/100      11.6G      1.575      1.323      1.792          4        640: 100% 149/149 [02:25<00:00,  1.03it/s]\n",
            "                 Class     Images  Instances      Box(P          R      mAP50  mAP50-95): 100% 8/8 [00:04<00:00,  1.63it/s]\n",
            "                   all        183        174      0.799      0.793      0.778      0.358\n",
            "\n",
            "      Epoch    GPU_mem   box_loss   cls_loss   dfl_loss  Instances       Size\n",
            "     64/100      11.6G      1.543      1.296      1.775          3        640: 100% 149/149 [02:24<00:00,  1.03it/s]\n",
            "                 Class     Images  Instances      Box(P          R      mAP50  mAP50-95): 100% 8/8 [00:04<00:00,  1.60it/s]\n",
            "                   all        183        174      0.831      0.761      0.743      0.325\n",
            "\n",
            "      Epoch    GPU_mem   box_loss   cls_loss   dfl_loss  Instances       Size\n",
            "     65/100      11.6G      1.514      1.261      1.753          3        640: 100% 149/149 [02:25<00:00,  1.03it/s]\n",
            "                 Class     Images  Instances      Box(P          R      mAP50  mAP50-95): 100% 8/8 [00:05<00:00,  1.50it/s]\n",
            "                   all        183        174      0.836      0.776      0.794       0.35\n",
            "\n",
            "      Epoch    GPU_mem   box_loss   cls_loss   dfl_loss  Instances       Size\n",
            "     66/100      11.7G      1.515      1.215      1.753          9        640: 100% 149/149 [02:25<00:00,  1.03it/s]\n",
            "                 Class     Images  Instances      Box(P          R      mAP50  mAP50-95): 100% 8/8 [00:05<00:00,  1.49it/s]\n",
            "                   all        183        174      0.848      0.724      0.763      0.336\n",
            "\n",
            "      Epoch    GPU_mem   box_loss   cls_loss   dfl_loss  Instances       Size\n",
            "     67/100      11.7G      1.535      1.248       1.76          3        640: 100% 149/149 [02:25<00:00,  1.03it/s]\n",
            "                 Class     Images  Instances      Box(P          R      mAP50  mAP50-95): 100% 8/8 [00:04<00:00,  1.63it/s]\n",
            "                   all        183        174      0.834      0.782      0.797      0.377\n",
            "\n",
            "      Epoch    GPU_mem   box_loss   cls_loss   dfl_loss  Instances       Size\n",
            "     68/100      11.6G      1.491      1.193      1.735          3        640: 100% 149/149 [02:25<00:00,  1.02it/s]\n",
            "                 Class     Images  Instances      Box(P          R      mAP50  mAP50-95): 100% 8/8 [00:04<00:00,  1.62it/s]\n",
            "                   all        183        174       0.84      0.812      0.816      0.388\n",
            "\n",
            "      Epoch    GPU_mem   box_loss   cls_loss   dfl_loss  Instances       Size\n",
            "     69/100      11.6G      1.492      1.174      1.717          5        640: 100% 149/149 [02:25<00:00,  1.02it/s]\n",
            "                 Class     Images  Instances      Box(P          R      mAP50  mAP50-95): 100% 8/8 [00:05<00:00,  1.45it/s]\n",
            "                   all        183        174      0.835      0.787      0.779      0.359\n",
            "\n",
            "      Epoch    GPU_mem   box_loss   cls_loss   dfl_loss  Instances       Size\n",
            "     70/100      11.6G      1.476      1.183      1.708          2        640: 100% 149/149 [02:25<00:00,  1.02it/s]\n",
            "                 Class     Images  Instances      Box(P          R      mAP50  mAP50-95): 100% 8/8 [00:05<00:00,  1.53it/s]\n",
            "                   all        183        174      0.831      0.782      0.772      0.359\n",
            "\n",
            "      Epoch    GPU_mem   box_loss   cls_loss   dfl_loss  Instances       Size\n",
            "     71/100      11.7G      1.462      1.178      1.713          2        640: 100% 149/149 [02:25<00:00,  1.02it/s]\n",
            "                 Class     Images  Instances      Box(P          R      mAP50  mAP50-95): 100% 8/8 [00:04<00:00,  1.61it/s]\n",
            "                   all        183        174      0.836      0.776      0.777      0.364\n",
            "\n",
            "      Epoch    GPU_mem   box_loss   cls_loss   dfl_loss  Instances       Size\n",
            "     72/100      11.7G      1.455      1.155       1.68          2        640: 100% 149/149 [02:25<00:00,  1.02it/s]\n",
            "                 Class     Images  Instances      Box(P          R      mAP50  mAP50-95): 100% 8/8 [00:05<00:00,  1.41it/s]\n",
            "                   all        183        174      0.814      0.705      0.714      0.325\n",
            "\n",
            "      Epoch    GPU_mem   box_loss   cls_loss   dfl_loss  Instances       Size\n",
            "     73/100      11.6G      1.465      1.131      1.696          2        640: 100% 149/149 [02:25<00:00,  1.02it/s]\n",
            "                 Class     Images  Instances      Box(P          R      mAP50  mAP50-95): 100% 8/8 [00:05<00:00,  1.56it/s]\n",
            "                   all        183        174      0.854       0.77      0.777      0.361\n",
            "\n",
            "      Epoch    GPU_mem   box_loss   cls_loss   dfl_loss  Instances       Size\n",
            "     74/100      11.6G       1.47      1.132       1.69          1        640: 100% 149/149 [02:25<00:00,  1.02it/s]\n",
            "                 Class     Images  Instances      Box(P          R      mAP50  mAP50-95): 100% 8/8 [00:05<00:00,  1.49it/s]\n",
            "                   all        183        174      0.802      0.793      0.768      0.351\n",
            "\n",
            "      Epoch    GPU_mem   box_loss   cls_loss   dfl_loss  Instances       Size\n",
            "     75/100      11.6G      1.443      1.104      1.691          4        640: 100% 149/149 [02:25<00:00,  1.02it/s]\n",
            "                 Class     Images  Instances      Box(P          R      mAP50  mAP50-95): 100% 8/8 [00:04<00:00,  1.60it/s]\n",
            "                   all        183        174      0.848      0.787      0.774      0.364\n",
            "\n",
            "      Epoch    GPU_mem   box_loss   cls_loss   dfl_loss  Instances       Size\n",
            "     76/100      11.7G      1.439      1.107      1.681          3        640: 100% 149/149 [02:25<00:00,  1.02it/s]\n",
            "                 Class     Images  Instances      Box(P          R      mAP50  mAP50-95): 100% 8/8 [00:05<00:00,  1.54it/s]\n",
            "                   all        183        174      0.814      0.805       0.77      0.348\n",
            "\n",
            "      Epoch    GPU_mem   box_loss   cls_loss   dfl_loss  Instances       Size\n",
            "     77/100      11.7G      1.404      1.066      1.667          2        640: 100% 149/149 [02:25<00:00,  1.02it/s]\n",
            "                 Class     Images  Instances      Box(P          R      mAP50  mAP50-95): 100% 8/8 [00:05<00:00,  1.59it/s]\n",
            "                   all        183        174      0.847      0.794      0.788      0.353\n",
            "\n",
            "      Epoch    GPU_mem   box_loss   cls_loss   dfl_loss  Instances       Size\n",
            "     78/100      11.6G      1.392      1.061      1.643          3        640: 100% 149/149 [02:25<00:00,  1.02it/s]\n",
            "                 Class     Images  Instances      Box(P          R      mAP50  mAP50-95): 100% 8/8 [00:05<00:00,  1.55it/s]\n",
            "                   all        183        174      0.843      0.741      0.737      0.334\n",
            "\n",
            "      Epoch    GPU_mem   box_loss   cls_loss   dfl_loss  Instances       Size\n",
            "     79/100      11.6G      1.358      1.025      1.638          2        640: 100% 149/149 [02:25<00:00,  1.02it/s]\n",
            "                 Class     Images  Instances      Box(P          R      mAP50  mAP50-95): 100% 8/8 [00:04<00:00,  1.62it/s]\n",
            "                   all        183        174      0.851      0.782      0.755      0.342\n",
            "\n",
            "      Epoch    GPU_mem   box_loss   cls_loss   dfl_loss  Instances       Size\n",
            "     80/100      11.6G      1.401      1.047      1.659          7        640: 100% 149/149 [02:25<00:00,  1.02it/s]\n",
            "                 Class     Images  Instances      Box(P          R      mAP50  mAP50-95): 100% 8/8 [00:04<00:00,  1.64it/s]\n",
            "                   all        183        174      0.817      0.745      0.706      0.335\n",
            "\n",
            "      Epoch    GPU_mem   box_loss   cls_loss   dfl_loss  Instances       Size\n",
            "     81/100      11.7G      1.362      1.043      1.623          6        640: 100% 149/149 [02:25<00:00,  1.02it/s]\n",
            "                 Class     Images  Instances      Box(P          R      mAP50  mAP50-95): 100% 8/8 [00:04<00:00,  1.60it/s]\n",
            "                   all        183        174      0.813        0.8      0.765      0.357\n",
            "\n",
            "      Epoch    GPU_mem   box_loss   cls_loss   dfl_loss  Instances       Size\n",
            "     82/100      11.7G      1.355      1.024      1.617          3        640: 100% 149/149 [02:25<00:00,  1.02it/s]\n",
            "                 Class     Images  Instances      Box(P          R      mAP50  mAP50-95): 100% 8/8 [00:05<00:00,  1.59it/s]\n",
            "                   all        183        174      0.829      0.741      0.744      0.348\n",
            "\n",
            "      Epoch    GPU_mem   box_loss   cls_loss   dfl_loss  Instances       Size\n",
            "     83/100      11.6G      1.355       1.03      1.614          5        640: 100% 149/149 [02:25<00:00,  1.02it/s]\n",
            "                 Class     Images  Instances      Box(P          R      mAP50  mAP50-95): 100% 8/8 [00:05<00:00,  1.59it/s]\n",
            "                   all        183        174      0.788       0.77      0.744      0.335\n",
            "\n",
            "      Epoch    GPU_mem   box_loss   cls_loss   dfl_loss  Instances       Size\n",
            "     84/100      11.6G      1.315     0.9813      1.589          3        640: 100% 149/149 [02:26<00:00,  1.02it/s]\n",
            "                 Class     Images  Instances      Box(P          R      mAP50  mAP50-95): 100% 8/8 [00:05<00:00,  1.40it/s]\n",
            "                   all        183        174      0.819      0.754      0.731      0.342\n",
            "\n",
            "      Epoch    GPU_mem   box_loss   cls_loss   dfl_loss  Instances       Size\n",
            "     85/100      11.7G      1.319     0.9701      1.596          3        640: 100% 149/149 [02:25<00:00,  1.02it/s]\n",
            "                 Class     Images  Instances      Box(P          R      mAP50  mAP50-95): 100% 8/8 [00:04<00:00,  1.61it/s]\n",
            "                   all        183        174      0.835      0.785      0.775      0.347\n",
            "\n",
            "      Epoch    GPU_mem   box_loss   cls_loss   dfl_loss  Instances       Size\n",
            "     86/100      11.7G      1.321     0.9482       1.58          2        640: 100% 149/149 [02:25<00:00,  1.02it/s]\n",
            "                 Class     Images  Instances      Box(P          R      mAP50  mAP50-95): 100% 8/8 [00:05<00:00,  1.60it/s]\n",
            "                   all        183        174      0.831      0.707      0.738      0.341\n",
            "\n",
            "      Epoch    GPU_mem   box_loss   cls_loss   dfl_loss  Instances       Size\n",
            "     87/100      11.7G      1.296     0.9534      1.554          2        640: 100% 149/149 [02:26<00:00,  1.02it/s]\n",
            "                 Class     Images  Instances      Box(P          R      mAP50  mAP50-95): 100% 8/8 [00:04<00:00,  1.61it/s]\n",
            "                   all        183        174      0.812      0.747      0.734      0.339\n",
            "\n",
            "      Epoch    GPU_mem   box_loss   cls_loss   dfl_loss  Instances       Size\n",
            "     88/100      11.6G      1.284     0.9395      1.566          2        640: 100% 149/149 [02:26<00:00,  1.02it/s]\n",
            "                 Class     Images  Instances      Box(P          R      mAP50  mAP50-95): 100% 8/8 [00:05<00:00,  1.59it/s]\n",
            "                   all        183        174      0.864       0.73      0.774      0.356\n",
            "\n",
            "      Epoch    GPU_mem   box_loss   cls_loss   dfl_loss  Instances       Size\n",
            "     89/100      11.6G      1.252     0.9246      1.538          2        640: 100% 149/149 [02:26<00:00,  1.02it/s]\n",
            "                 Class     Images  Instances      Box(P          R      mAP50  mAP50-95): 100% 8/8 [00:04<00:00,  1.62it/s]\n",
            "                   all        183        174      0.833      0.759       0.77      0.339\n",
            "\n",
            "      Epoch    GPU_mem   box_loss   cls_loss   dfl_loss  Instances       Size\n",
            "     90/100      11.6G      1.254     0.9021      1.539          2        640: 100% 149/149 [02:26<00:00,  1.02it/s]\n",
            "                 Class     Images  Instances      Box(P          R      mAP50  mAP50-95): 100% 8/8 [00:04<00:00,  1.61it/s]\n",
            "                   all        183        174      0.842      0.735      0.739      0.328\n",
            "Closing dataloader mosaic\n",
            "\u001b[34m\u001b[1malbumentations: \u001b[0mBlur(p=0.01, blur_limit=(3, 7)), MedianBlur(p=0.01, blur_limit=(3, 7)), ToGray(p=0.01), CLAHE(p=0.01, clip_limit=(1, 4.0), tile_grid_size=(8, 8))\n",
            "\n",
            "      Epoch    GPU_mem   box_loss   cls_loss   dfl_loss  Instances       Size\n",
            "     91/100      11.7G      1.246     0.7631      1.621          1        640: 100% 149/149 [02:26<00:00,  1.02it/s]\n",
            "                 Class     Images  Instances      Box(P          R      mAP50  mAP50-95): 100% 8/8 [00:05<00:00,  1.48it/s]\n",
            "                   all        183        174      0.852      0.729      0.753      0.337\n",
            "\n",
            "      Epoch    GPU_mem   box_loss   cls_loss   dfl_loss  Instances       Size\n",
            "     92/100      11.7G      1.208      0.731      1.602          2        640: 100% 149/149 [02:26<00:00,  1.02it/s]\n",
            "                 Class     Images  Instances      Box(P          R      mAP50  mAP50-95): 100% 8/8 [00:05<00:00,  1.47it/s]\n",
            "                   all        183        174      0.803      0.799      0.757      0.335\n",
            "\n",
            "      Epoch    GPU_mem   box_loss   cls_loss   dfl_loss  Instances       Size\n",
            "     93/100      11.6G       1.13     0.6655       1.53          1        640: 100% 149/149 [02:25<00:00,  1.02it/s]\n",
            "                 Class     Images  Instances      Box(P          R      mAP50  mAP50-95): 100% 8/8 [00:05<00:00,  1.58it/s]\n",
            "                   all        183        174      0.851      0.788      0.782      0.346\n",
            "\n",
            "      Epoch    GPU_mem   box_loss   cls_loss   dfl_loss  Instances       Size\n",
            "     94/100      11.6G      1.137     0.6597       1.53          3        640: 100% 149/149 [02:25<00:00,  1.02it/s]\n",
            "                 Class     Images  Instances      Box(P          R      mAP50  mAP50-95): 100% 8/8 [00:05<00:00,  1.59it/s]\n",
            "                   all        183        174      0.835      0.787      0.772      0.347\n",
            "\n",
            "      Epoch    GPU_mem   box_loss   cls_loss   dfl_loss  Instances       Size\n",
            "     95/100      11.7G      1.142     0.6475      1.524          3        640: 100% 149/149 [02:25<00:00,  1.02it/s]\n",
            "                 Class     Images  Instances      Box(P          R      mAP50  mAP50-95): 100% 8/8 [00:04<00:00,  1.61it/s]\n",
            "                   all        183        174      0.834      0.781      0.761      0.339\n",
            "\n",
            "      Epoch    GPU_mem   box_loss   cls_loss   dfl_loss  Instances       Size\n",
            "     96/100      11.7G      1.099     0.6371      1.503          1        640: 100% 149/149 [02:25<00:00,  1.02it/s]\n",
            "                 Class     Images  Instances      Box(P          R      mAP50  mAP50-95): 100% 8/8 [00:05<00:00,  1.45it/s]\n",
            "                   all        183        174      0.858        0.8      0.793      0.345\n",
            "\n",
            "      Epoch    GPU_mem   box_loss   cls_loss   dfl_loss  Instances       Size\n",
            "     97/100      11.7G      1.099     0.6419      1.503          3        640: 100% 149/149 [02:25<00:00,  1.02it/s]\n",
            "                 Class     Images  Instances      Box(P          R      mAP50  mAP50-95): 100% 8/8 [00:05<00:00,  1.52it/s]\n",
            "                   all        183        174      0.843       0.74      0.739      0.331\n",
            "Stopping training early as no improvement observed in last 50 epochs. Best results observed at epoch 47, best model saved as best.pt.\n",
            "To update EarlyStopping(patience=50) pass a new patience value, i.e. `patience=300` or use `patience=0` to disable EarlyStopping.\n",
            "\n",
            "97 epochs completed in 4.342 hours.\n",
            "Optimizer stripped from runs/detect/train/weights/last.pt, 136.7MB\n",
            "Optimizer stripped from runs/detect/train/weights/best.pt, 136.7MB\n",
            "\n",
            "Validating runs/detect/train/weights/best.pt...\n",
            "Ultralytics YOLOv8.0.196 🚀 Python-3.10.12 torch-2.1.0+cu118 CUDA:0 (Tesla T4, 15102MiB)\n",
            "Model summary (fused): 268 layers, 68124531 parameters, 0 gradients, 257.4 GFLOPs\n",
            "                 Class     Images  Instances      Box(P          R      mAP50  mAP50-95): 100% 8/8 [00:07<00:00,  1.05it/s]\n",
            "                   all        183        174      0.814      0.736      0.796      0.419\n",
            "Speed: 0.4ms preprocess, 22.8ms inference, 0.0ms loss, 3.2ms postprocess per image\n",
            "Results saved to \u001b[1mruns/detect/train\u001b[0m\n",
            "💡 Learn more at https://docs.ultralytics.com/modes/train\n"
          ]
        }
      ],
      "source": [
        "%cd {HOME}\n",
        "\n",
        "!yolo task=detect mode=train model=yolov8x.pt data={dataset.location}/data.yaml pretrained=yolov8x.pt epochs=100 batch=13 imgsz=640"
      ]
    },
    {
      "cell_type": "code",
      "execution_count": null,
      "metadata": {
        "id": "1MScstfHhArr"
      },
      "outputs": [],
      "source": [
        "!ls {HOME}/runs/detect/train/"
      ]
    },
    {
      "cell_type": "code",
      "execution_count": null,
      "metadata": {
        "id": "_J35i8Ofhjxa"
      },
      "outputs": [],
      "source": [
        "%cd {HOME}\n",
        "Image(filename=f'{HOME}/runs/detect/train/confusion_matrix_normalized.png', width=600)"
      ]
    },
    {
      "cell_type": "code",
      "execution_count": null,
      "metadata": {
        "id": "A-urTWUkhRmn"
      },
      "outputs": [],
      "source": [
        "%cd {HOME}\n",
        "Image(filename=f'{HOME}/runs/detect/train/results.png', width=600)"
      ]
    },
    {
      "cell_type": "code",
      "execution_count": null,
      "metadata": {
        "id": "HI4nADCCj3F5"
      },
      "outputs": [],
      "source": [
        "%cd {HOME}\n",
        "Image(filename=f'{HOME}/runs/detect/train/val_batch0_pred.jpg', width=600)"
      ]
    },
    {
      "cell_type": "markdown",
      "metadata": {
        "id": "6ODk1VTlevxn"
      },
      "source": [
        "## Model Validation"
      ]
    },
    {
      "cell_type": "code",
      "execution_count": null,
      "metadata": {
        "id": "YpyuwrNlXc1P"
      },
      "outputs": [],
      "source": [
        "%cd {HOME}\n",
        "\n",
        "!yolo task=detect mode=val model={HOME}/drive/MyDrive/ThesisData/content/runs/detect/train/weights/best.pt data={dataset.location}/data.yaml"
      ]
    },
    {
      "cell_type": "markdown",
      "metadata": {
        "id": "i4eASbcWkQBq"
      },
      "source": [
        "## Model Inference"
      ]
    },
    {
      "cell_type": "code",
      "execution_count": null,
      "metadata": {
        "colab": {
          "base_uri": "https://localhost:8080/"
        },
        "id": "Wjc1ctZykYuf",
        "outputId": "ba13c9c8-d422-43ca-b1d3-560b806e81b3"
      },
      "outputs": [
        {
          "name": "stdout",
          "output_type": "stream",
          "text": [
            "/content\n",
            "2023-11-01 14:06:46.046587: E tensorflow/compiler/xla/stream_executor/cuda/cuda_dnn.cc:9342] Unable to register cuDNN factory: Attempting to register factory for plugin cuDNN when one has already been registered\n",
            "2023-11-01 14:06:46.046648: E tensorflow/compiler/xla/stream_executor/cuda/cuda_fft.cc:609] Unable to register cuFFT factory: Attempting to register factory for plugin cuFFT when one has already been registered\n",
            "2023-11-01 14:06:46.046686: E tensorflow/compiler/xla/stream_executor/cuda/cuda_blas.cc:1518] Unable to register cuBLAS factory: Attempting to register factory for plugin cuBLAS when one has already been registered\n",
            "2023-11-01 14:06:46.054138: I tensorflow/core/platform/cpu_feature_guard.cc:182] This TensorFlow binary is optimized to use available CPU instructions in performance-critical operations.\n",
            "To enable the following instructions: AVX2 FMA, in other operations, rebuild TensorFlow with the appropriate compiler flags.\n",
            "2023-11-01 14:06:47.344786: W tensorflow/compiler/tf2tensorrt/utils/py_utils.cc:38] TF-TRT Warning: Could not find TensorRT\n",
            "Ultralytics YOLOv8.0.20 🚀 Python-3.10.12 torch-2.1.0+cu118 CUDA:0 (Tesla T4, 15102MiB)\n",
            "Model summary (fused): 268 layers, 68124531 parameters, 0 gradients, 257.4 GFLOPs\n",
            "image 1/88 /content/datasets/Railway-Crack-Detection-15/test/images/Image-003_jpg.rf.7f7e63f1e570a3011d807c08c203707a.jpg: 384x640 73.0ms\n",
            "image 2/88 /content/datasets/Railway-Crack-Detection-15/test/images/Image-076_jpg.rf.c172a91fe3a6cbd0078700c19b956b06.jpg: 512x640 73.5ms\n",
            "image 3/88 /content/datasets/Railway-Crack-Detection-15/test/images/Image-081_jpg.rf.396b72611e16c2b95ed58be25e1e4670.jpg: 480x640 2 railway-crackss, 67.9ms\n",
            "image 4/88 /content/datasets/Railway-Crack-Detection-15/test/images/Image-086_jpg.rf.28d2f94bd6c14c0fac3edfe643fee25d.jpg: 480x640 62.2ms\n",
            "image 5/88 /content/datasets/Railway-Crack-Detection-15/test/images/Image-091_jpg.rf.96c430681985a924dacf24ee59556c58.jpg: 480x640 1 railway-cracks, 62.1ms\n",
            "image 6/88 /content/datasets/Railway-Crack-Detection-15/test/images/Image-092_jpg.rf.56f2de2fddd55bf8bd22027971b6fd73.jpg: 640x480 1 railway-cracks, 68.4ms\n",
            "image 7/88 /content/datasets/Railway-Crack-Detection-15/test/images/Image-093_jpg.rf.7ecbb6893e12d796473cba6e0f66677d.jpg: 480x640 1 railway-cracks, 63.5ms\n",
            "image 8/88 /content/datasets/Railway-Crack-Detection-15/test/images/Image-095_jpg.rf.c21b776641c825169b53c04f21d0b161.jpg: 640x480 1 railway-cracks, 64.4ms\n",
            "image 9/88 /content/datasets/Railway-Crack-Detection-15/test/images/Image-100_jpg.rf.d51afd34141118088c4c568da4662499.jpg: 640x480 2 railway-crackss, 61.9ms\n",
            "image 10/88 /content/datasets/Railway-Crack-Detection-15/test/images/Image-107_jpg.rf.a562d6a61913517a6aa1ab00e20f5172.jpg: 288x640 1 railway-cracks, 121.9ms\n",
            "image 11/88 /content/datasets/Railway-Crack-Detection-15/test/images/Image-111_jpg.rf.bda075d961940c8936528c6c5a317127.jpg: 384x640 52.1ms\n",
            "image 12/88 /content/datasets/Railway-Crack-Detection-15/test/images/Image-116_jpg.rf.fbb48f04242333b75beb64d5ec58c301.jpg: 480x640 1 railway-cracks, 60.9ms\n",
            "image 13/88 /content/datasets/Railway-Crack-Detection-15/test/images/Image-118_jpg.rf.318552546b5715879c5671643da0fe60.jpg: 384x640 52.8ms\n",
            "image 14/88 /content/datasets/Railway-Crack-Detection-15/test/images/Image-141_jpg.rf.465a984a3d7477e7d11124c58c0d0d64.jpg: 288x640 2 railway-crackss, 47.0ms\n",
            "image 15/88 /content/datasets/Railway-Crack-Detection-15/test/images/Image-152_jpg.rf.6a640407843c3ca3f696b3d1c7b29f13.jpg: 320x640 1 railway-cracks, 110.3ms\n",
            "image 16/88 /content/datasets/Railway-Crack-Detection-15/test/images/Image-159_jpg.rf.da0bfada589da5ea390ea8a1daa0fe72.jpg: 320x640 3 railway-crackss, 47.9ms\n",
            "image 17/88 /content/datasets/Railway-Crack-Detection-15/test/images/Image-183_jpg.rf.e1932c2abbaf4662ab76f8aba9af882e.jpg: 480x640 60.8ms\n",
            "image 18/88 /content/datasets/Railway-Crack-Detection-15/test/images/Image-193_jpg.rf.3db3e94cee4140d0187befa8a638e585.jpg: 288x640 1 railway-cracks, 47.1ms\n",
            "image 19/88 /content/datasets/Railway-Crack-Detection-15/test/images/Image-200_jpg.rf.eb69615a519c1bc715e03cb70daa3283.jpg: 288x640 2 railway-crackss, 45.9ms\n",
            "image 20/88 /content/datasets/Railway-Crack-Detection-15/test/images/Image-203_jpg.rf.ed7d73d46e7e070865c76742b6713984.jpg: 384x640 1 railway-cracks, 54.4ms\n",
            "image 21/88 /content/datasets/Railway-Crack-Detection-15/test/images/Image-219_jpg.rf.62bcf96c1a00fb74c4018a36b5045daf.jpg: 640x288 123.2ms\n",
            "image 22/88 /content/datasets/Railway-Crack-Detection-15/test/images/Image-227_jpg.rf.8e2c52eae9de6c09a924ca9cb3712630.jpg: 480x640 1 railway-cracks, 66.3ms\n",
            "image 23/88 /content/datasets/Railway-Crack-Detection-15/test/images/Image-236_jpg.rf.4a863f764c08bfa5324d6d1dd5798ffd.jpg: 480x640 1 railway-cracks, 67.1ms\n",
            "image 24/88 /content/datasets/Railway-Crack-Detection-15/test/images/Image-237_jpg.rf.53e457b828ced93f3eb80cdb51d4cb54.jpg: 640x480 2 railway-crackss, 71.4ms\n",
            "image 25/88 /content/datasets/Railway-Crack-Detection-15/test/images/Image-240_jpg.rf.3e89a49e408bae025c74800bad0951a3.jpg: 288x640 2 railway-crackss, 56.9ms\n",
            "image 26/88 /content/datasets/Railway-Crack-Detection-15/test/images/Image-243_jpg.rf.dc0530109eaf74b903eeeb7a025c1c64.jpg: 640x480 1 railway-cracks, 74.9ms\n",
            "image 27/88 /content/datasets/Railway-Crack-Detection-15/test/images/Image-244_jpg.rf.ab0cd1e661e75eff465e4959fc3436bb.jpg: 480x640 1 railway-cracks, 74.6ms\n",
            "image 28/88 /content/datasets/Railway-Crack-Detection-15/test/images/Image-246_jpg.rf.f7a2331cc5de15e2d3f7a8cb24a80c34.jpg: 480x640 1 railway-cracks, 73.2ms\n",
            "image 29/88 /content/datasets/Railway-Crack-Detection-15/test/images/Image-248_jpg.rf.64dec841615bf9bd146662ab741f594f.jpg: 640x480 1 railway-cracks, 74.9ms\n",
            "image 30/88 /content/datasets/Railway-Crack-Detection-15/test/images/Image-251_jpg.rf.abe461b8638188a4d18a4b539666cf92.jpg: 480x640 2 railway-crackss, 74.7ms\n",
            "image 31/88 /content/datasets/Railway-Crack-Detection-15/test/images/Image-253_jpg.rf.b421b0f593fa25cf5e2d9cd644c55487.jpg: 480x640 1 railway-cracks, 73.3ms\n",
            "image 32/88 /content/datasets/Railway-Crack-Detection-15/test/images/Image-256_jpg.rf.d0863d0eaad00f1d6a891e7a1253a632.jpg: 640x480 2 railway-crackss, 74.6ms\n",
            "image 33/88 /content/datasets/Railway-Crack-Detection-15/test/images/Image-258_jpg.rf.0506a00ed7b7ec322c5e24a226d22ee3.jpg: 640x384 1 railway-cracks, 71.1ms\n",
            "image 34/88 /content/datasets/Railway-Crack-Detection-15/test/images/Image-269_jpg.rf.1c8dcd46095bcb42eb4081dd9f9fb0d9.jpg: 640x480 1 railway-cracks, 68.5ms\n",
            "image 35/88 /content/datasets/Railway-Crack-Detection-15/test/images/Image-270_jpg.rf.e18e9e4c467d2e92ea1c579e7368393e.jpg: 480x640 1 railway-cracks, 62.5ms\n",
            "image 36/88 /content/datasets/Railway-Crack-Detection-15/test/images/Image-273_jpg.rf.fe7f4cf9c3e07034867b507463db1261.jpg: 480x640 1 railway-cracks, 61.1ms\n",
            "image 37/88 /content/datasets/Railway-Crack-Detection-15/test/images/Image-278_jpg.rf.c98d6ce5a996c04688ea36e4b343df5f.jpg: 480x640 1 railway-cracks, 61.2ms\n",
            "image 38/88 /content/datasets/Railway-Crack-Detection-15/test/images/Image-285_jpg.rf.92162e1405fdb6d8a562786a9907abbd.jpg: 480x640 1 railway-cracks, 61.1ms\n",
            "image 39/88 /content/datasets/Railway-Crack-Detection-15/test/images/Image-297_jpg.rf.a0771b3d1f2a48c920a32c3b4145680a.jpg: 480x640 2 railway-crackss, 61.1ms\n",
            "image 40/88 /content/datasets/Railway-Crack-Detection-15/test/images/Image-303_jpg.rf.b4490362b5c1b73c9645697aabbd7c2c.jpg: 480x640 1 railway-cracks, 61.1ms\n",
            "image 41/88 /content/datasets/Railway-Crack-Detection-15/test/images/Image-307_jpg.rf.e29603f18797f2e6bb88abb1ec256061.jpg: 480x640 2 railway-crackss, 60.5ms\n",
            "image 42/88 /content/datasets/Railway-Crack-Detection-15/test/images/Image-310_jpg.rf.39a25dd09ff15aa858d4a1e2ea432fba.jpg: 640x480 1 railway-cracks, 58.5ms\n",
            "image 43/88 /content/datasets/Railway-Crack-Detection-15/test/images/Image-311_jpg.rf.bafc1778f15e021af31122d32c8a6a62.jpg: 480x640 1 railway-cracks, 58.5ms\n",
            "image 44/88 /content/datasets/Railway-Crack-Detection-15/test/images/Image-319_jpg.rf.c962d3f1aae346e05bfcf7a8b599a199.jpg: 480x640 1 railway-cracks, 57.2ms\n",
            "image 45/88 /content/datasets/Railway-Crack-Detection-15/test/images/Image-329_jpg.rf.55e5d7eea72a11090253ca0e5d41abb8.jpg: 480x640 1 railway-cracks, 57.1ms\n",
            "image 46/88 /content/datasets/Railway-Crack-Detection-15/test/images/Image-332_jpg.rf.cf2cbac86b1ffc83b53c20d71733b1cd.jpg: 480x640 1 railway-cracks, 56.9ms\n",
            "image 47/88 /content/datasets/Railway-Crack-Detection-15/test/images/Image-338_jpg.rf.2d6d8f3b8f6d92205b20cc9279e21c06.jpg: 480x640 1 railway-cracks, 43.6ms\n",
            "image 48/88 /content/datasets/Railway-Crack-Detection-15/test/images/Image-350_jpg.rf.deac626d36b706f17a83feb04022727a.jpg: 640x480 1 railway-cracks, 45.0ms\n",
            "image 49/88 /content/datasets/Railway-Crack-Detection-15/test/images/Image-355_jpg.rf.71ec3e15eb527c579c7346cbb8391168.jpg: 640x480 1 railway-cracks, 43.6ms\n",
            "image 50/88 /content/datasets/Railway-Crack-Detection-15/test/images/Image-357_jpg.rf.e392bc207867d31fa245da4172cf2294.jpg: 480x640 1 railway-cracks, 45.6ms\n",
            "image 51/88 /content/datasets/Railway-Crack-Detection-15/test/images/Image-359_jpg.rf.4886d414edfafe38ba8f6fe4e0ed25c5.jpg: 480x640 1 railway-cracks, 43.6ms\n",
            "image 52/88 /content/datasets/Railway-Crack-Detection-15/test/images/Image-370_jpg.rf.06a3c202505a25a17374bf5df454925a.jpg: 480x640 3 railway-crackss, 43.5ms\n",
            "image 53/88 /content/datasets/Railway-Crack-Detection-15/test/images/Image-373_jpg.rf.12ad62e26f6f3d44820400eaffd373e4.jpg: 640x480 1 railway-cracks, 44.8ms\n",
            "image 54/88 /content/datasets/Railway-Crack-Detection-15/test/images/Image-377_jpg.rf.65b8c65d02ab9c2c9a56e7c3af072204.jpg: 640x480 2 railway-crackss, 43.7ms\n",
            "image 55/88 /content/datasets/Railway-Crack-Detection-15/test/images/Image-390_jpg.rf.6e76d08f9360d0079d792967d7abe776.jpg: 480x640 2 railway-crackss, 44.8ms\n",
            "image 56/88 /content/datasets/Railway-Crack-Detection-15/test/images/Image-397_jpg.rf.b60e881b2a1f0331eb64ec94b4e07823.jpg: 480x640 1 railway-cracks, 43.6ms\n",
            "image 57/88 /content/datasets/Railway-Crack-Detection-15/test/images/Image-399_jpg.rf.3702b2f1871e140f4ef164bc7204b95b.jpg: 640x288 35.6ms\n",
            "image 58/88 /content/datasets/Railway-Crack-Detection-15/test/images/Image-403_jpg.rf.869f78f8da07353a02b89851ca4ceee6.jpg: 480x640 47.0ms\n",
            "image 59/88 /content/datasets/Railway-Crack-Detection-15/test/images/Image-406_jpg.rf.2fdb4ecfb25c1048ebd5b4fb452a45e2.jpg: 480x640 47.6ms\n",
            "image 60/88 /content/datasets/Railway-Crack-Detection-15/test/images/Image-440_jpg.rf.c453cb90a8e48095bfa8959e1e608b6a.jpg: 480x640 1 railway-cracks, 45.7ms\n",
            "image 61/88 /content/datasets/Railway-Crack-Detection-15/test/images/Image-458_jpg.rf.053382d4a9a43eabea96125ab92b9861.jpg: 480x640 1 railway-cracks, 38.6ms\n",
            "image 62/88 /content/datasets/Railway-Crack-Detection-15/test/images/Image-463_jpg.rf.e7f6aaf01c5b7ea5e7bf87e9fc390ed2.jpg: 480x640 2 railway-crackss, 38.9ms\n",
            "image 63/88 /content/datasets/Railway-Crack-Detection-15/test/images/Image-465_jpg.rf.38884b4a15e1b6199a684c5cbcb1d7bb.jpg: 480x640 1 railway-cracks, 38.9ms\n",
            "image 64/88 /content/datasets/Railway-Crack-Detection-15/test/images/Image-468_jpg.rf.91547c55c70dfddf735b7c719d83e4ec.jpg: 480x640 1 railway-cracks, 38.1ms\n",
            "image 65/88 /content/datasets/Railway-Crack-Detection-15/test/images/Image-480_jpg.rf.b8599253a28d127c07ccea9f445f4797.jpg: 480x640 1 railway-cracks, 39.2ms\n",
            "image 66/88 /content/datasets/Railway-Crack-Detection-15/test/images/Image-490_jpg.rf.fc7d22c38aed7a35701ca44da6487c42.jpg: 480x640 3 railway-crackss, 38.9ms\n",
            "image 67/88 /content/datasets/Railway-Crack-Detection-15/test/images/Image-510_jpg.rf.860fb0953e787176b5462a86dde8eae1.jpg: 480x640 39.0ms\n",
            "image 68/88 /content/datasets/Railway-Crack-Detection-15/test/images/Image-516_jpg.rf.39c7325b5adfb731641eb41eb540b3f2.jpg: 480x640 38.8ms\n",
            "image 69/88 /content/datasets/Railway-Crack-Detection-15/test/images/Image-517_jpg.rf.50c0b92cf3ebdc9108447f6a65bf32f9.jpg: 480x640 38.5ms\n",
            "image 70/88 /content/datasets/Railway-Crack-Detection-15/test/images/Image-519_jpg.rf.6f38b0e826e034ce44515b00f3323434.jpg: 480x640 39.0ms\n",
            "image 71/88 /content/datasets/Railway-Crack-Detection-15/test/images/Image-521_jpg.rf.062f84ef7b9bddb2cda16071c17e47b9.jpg: 480x640 38.9ms\n",
            "image 72/88 /content/datasets/Railway-Crack-Detection-15/test/images/Image-526_jpg.rf.b500b101a49ecd1df5b002cf00d0b4c1.jpg: 480x640 46.2ms\n",
            "image 73/88 /content/datasets/Railway-Crack-Detection-15/test/images/Image-529_jpg.rf.31d7cfece9ee765a8999d490bbd18cb7.jpg: 640x640 61.1ms\n",
            "image 74/88 /content/datasets/Railway-Crack-Detection-15/test/images/Image-531_jpg.rf.6ce99dbec7b18169737049e841d7c579.jpg: 640x640 55.9ms\n",
            "image 75/88 /content/datasets/Railway-Crack-Detection-15/test/images/Image-533_jpg.rf.e796ae31a94b8bc1322be2802c03737f.jpg: 480x640 1 railway-cracks, 42.7ms\n",
            "image 76/88 /content/datasets/Railway-Crack-Detection-15/test/images/Image-540_jpg.rf.210e74ac30e29892becfed9128663268.jpg: 640x640 49.7ms\n",
            "image 77/88 /content/datasets/Railway-Crack-Detection-15/test/images/Image-567_jpg.rf.a12f599d1067b745d5a3cb8e575f9391.jpg: 480x640 37.4ms\n",
            "image 78/88 /content/datasets/Railway-Crack-Detection-15/test/images/Image-577_jpg.rf.27328134a18076608dc12e584d68cfea.jpg: 640x640 1 railway-cracks, 52.5ms\n",
            "image 79/88 /content/datasets/Railway-Crack-Detection-15/test/images/Image-579_jpg.rf.3621de1ab20973f7dd9610427c66ce5d.jpg: 640x640 1 railway-cracks, 55.4ms\n",
            "image 80/88 /content/datasets/Railway-Crack-Detection-15/test/images/Image-583_jpg.rf.28199888cefde0bc9bb8033e86cc1acb.jpg: 640x640 1 railway-cracks, 53.9ms\n",
            "image 81/88 /content/datasets/Railway-Crack-Detection-15/test/images/Image-585_jpg.rf.55d24a8d0ddc87c5bcce9459ede24d81.jpg: 640x640 1 railway-cracks, 53.7ms\n",
            "image 82/88 /content/datasets/Railway-Crack-Detection-15/test/images/Image-586_jpg.rf.c22e88f971d993c87a50e9e1c04c1765.jpg: 640x640 1 railway-cracks, 54.0ms\n",
            "image 83/88 /content/datasets/Railway-Crack-Detection-15/test/images/Image-591_jpg.rf.f5ce87fcb879eaf8ccf24d2f76896666.jpg: 640x640 2 railway-crackss, 54.6ms\n",
            "image 84/88 /content/datasets/Railway-Crack-Detection-15/test/images/Image-599_jpg.rf.bb4c6572dccae65a2305895270684b5d.jpg: 384x640 1 railway-cracks, 35.5ms\n",
            "image 85/88 /content/datasets/Railway-Crack-Detection-15/test/images/Image-602_jpg.rf.a318370a13a91d093812dcf55e6f31e9.jpg: 640x640 1 railway-cracks, 54.2ms\n",
            "image 86/88 /content/datasets/Railway-Crack-Detection-15/test/images/Image-668_jpg.rf.bb485130d6404b120eb1e6b0db6bcc16.jpg: 640x640 1 railway-cracks, 56.4ms\n",
            "image 87/88 /content/datasets/Railway-Crack-Detection-15/test/images/Image-751_jpg.rf.ce17ceb279dc162b60d0d20f41f3e49b.jpg: 640x640 1 railway-cracks, 55.1ms\n",
            "image 88/88 /content/datasets/Railway-Crack-Detection-15/test/images/photo_2023-10-04_11-32-10_jpg.rf.efc2d04908f09d6e12dc3ca24c378f6c.jpg: 640x480 1 railway-cracks, 38.4ms\n",
            "Speed: 0.6ms pre-process, 56.4ms inference, 5.4ms postprocess per image at shape (1, 3, 640, 640)\n",
            "Results saved to \u001b[1mruns/detect/predict\u001b[0m\n"
          ]
        }
      ],
      "source": [
        "%cd {HOME}\n",
        "!yolo task=detect mode=predict model={HOME}/drive/MyDrive/ThesisData/YOLO/best.pt conf=0.25 source={dataset.location}/test/images save=True\n"
      ]
    },
    {
      "cell_type": "markdown",
      "metadata": {
        "id": "mEYIo95n-I0S"
      },
      "source": [
        "**NOTE:** Let's take a look at few results."
      ]
    },
    {
      "cell_type": "code",
      "execution_count": null,
      "metadata": {
        "id": "jbVjEtPAkz3j"
      },
      "outputs": [],
      "source": [
        "import glob\n",
        "from IPython.display import Image, display\n",
        "\n",
        "for image_path in glob.glob(f'{HOME}/runs/detect/predict/*.jpg'):\n",
        "      display(Image(filename=image_path, width=600))\n",
        "      print(\"\\n\")"
      ]
    },
    {
      "cell_type": "markdown",
      "metadata": {
        "id": "j0tsVilOCPyq"
      },
      "source": [
        "## Deploy model on Roboflow\n",
        "\n",
        "Once you have finished training your YOLOv8 model, you’ll have a set of trained weights ready for use. These weights will be in the `/runs/detect/train/weights/best.pt` folder of your project. You can upload your model weights to Roboflow Deploy to use your trained weights on our infinitely scalable infrastructure.\n",
        "\n",
        "The `.deploy()` function in the [Roboflow pip package](https://docs.roboflow.com/python) now supports uploading YOLOv8 weights.\n",
        "\n",
        "To upload model weights, add the following code to the “Inference with Custom Model” section in the aforementioned notebook:"
      ]
    },
    {
      "cell_type": "code",
      "execution_count": null,
      "metadata": {
        "id": "6EhBAJ2gCPZh",
        "colab": {
          "base_uri": "https://localhost:8080/"
        },
        "outputId": "3ca07c61-ca81-4d7b-8951-ef1d7e96850d"
      },
      "outputs": [
        {
          "output_type": "stream",
          "name": "stdout",
          "text": [
            "View the status of your deployment at: https://app.roboflow.com/thesis-group/railway-crack-detection/2\n",
            "Share your model with the world at: https://universe.roboflow.com/thesis-group/railway-crack-detection/model/2\n"
          ]
        }
      ],
      "source": [
        "project.version(2).deploy(model_type=\"yolov8\", model_path=f\"{HOME}/runs/detect/train\")"
      ]
    },
    {
      "cell_type": "code",
      "execution_count": null,
      "metadata": {
        "id": "q5kOhjkmcV1l"
      },
      "outputs": [],
      "source": [
        "#While your deployment is processing, checkout the deployment docs to take your model to most destinations https://docs.roboflow.com/inference"
      ]
    },
    {
      "cell_type": "code",
      "execution_count": null,
      "metadata": {
        "id": "I4bpUIibcV1l"
      },
      "outputs": [],
      "source": [
        "#Run inference on your model on a persistant, auto-scaling, cloud API\n",
        "\n",
        "#load model\n",
        "model = project.version(dataset.version).model\n",
        "\n",
        "#choose random test set image\n",
        "import os, random\n",
        "test_set_loc = dataset.location + \"/test/images/\"\n",
        "random_test_image = random.choice(os.listdir(test_set_loc))\n",
        "print(\"running inference on \" + random_test_image)\n",
        "\n",
        "pred = model.predict(test_set_loc + random_test_image, confidence=40, overlap=30).json()\n",
        "pred"
      ]
    },
    {
      "cell_type": "markdown",
      "metadata": {
        "id": "khNfnqYfisPP"
      },
      "source": [
        "Results Plotting"
      ]
    },
    {
      "cell_type": "code",
      "execution_count": null,
      "metadata": {
        "id": "IiIhlaYOir8B"
      },
      "outputs": [],
      "source": [
        "#load model\n",
        "model = project.version(10).model\n"
      ]
    },
    {
      "cell_type": "code",
      "execution_count": null,
      "metadata": {
        "colab": {
          "base_uri": "https://localhost:8080/"
        },
        "id": "8aaXrJumltjE",
        "outputId": "5bad1d43-bb1f-43d2-8769-8b0cca10dbda"
      },
      "outputs": [
        {
          "name": "stdout",
          "output_type": "stream",
          "text": [
            "Cloning into 'yolov5'...\n",
            "remote: Enumerating objects: 16057, done.\u001b[K\n",
            "remote: Total 16057 (delta 0), reused 0 (delta 0), pack-reused 16057\u001b[K\n",
            "Receiving objects: 100% (16057/16057), 14.66 MiB | 19.45 MiB/s, done.\n",
            "Resolving deltas: 100% (11028/11028), done.\n",
            "/content/datasets/yolov5\n",
            "\u001b[2K     \u001b[90m━━━━━━━━━━━━━━━━━━━━━━━━━━━━━━━━━━━━━━━━\u001b[0m \u001b[32m586.0/586.0 kB\u001b[0m \u001b[31m9.1 MB/s\u001b[0m eta \u001b[36m0:00:00\u001b[0m\n",
            "\u001b[2K     \u001b[90m━━━━━━━━━━━━━━━━━━━━━━━━━━━━━━━━━━━━━━━━\u001b[0m \u001b[32m190.6/190.6 kB\u001b[0m \u001b[31m12.3 MB/s\u001b[0m eta \u001b[36m0:00:00\u001b[0m\n",
            "\u001b[2K     \u001b[90m━━━━━━━━━━━━━━━━━━━━━━━━━━━━━━━━━━━━━━━━\u001b[0m \u001b[32m3.6/3.6 MB\u001b[0m \u001b[31m29.1 MB/s\u001b[0m eta \u001b[36m0:00:00\u001b[0m\n",
            "\u001b[2K     \u001b[90m━━━━━━━━━━━━━━━━━━━━━━━━━━━━━━━━━━━━━━━━\u001b[0m \u001b[32m645.2/645.2 kB\u001b[0m \u001b[31m37.1 MB/s\u001b[0m eta \u001b[36m0:00:00\u001b[0m\n",
            "\u001b[2K     \u001b[90m━━━━━━━━━━━━━━━━━━━━━━━━━━━━━━━━━━━━━━━━\u001b[0m \u001b[32m3.3/3.3 MB\u001b[0m \u001b[31m62.0 MB/s\u001b[0m eta \u001b[36m0:00:00\u001b[0m\n",
            "\u001b[2K     \u001b[90m━━━━━━━━━━━━━━━━━━━━━━━━━━━━━━━━━━━━━━━━\u001b[0m \u001b[32m243.9/243.9 kB\u001b[0m \u001b[31m32.1 MB/s\u001b[0m eta \u001b[36m0:00:00\u001b[0m\n",
            "\u001b[2K     \u001b[90m━━━━━━━━━━━━━━━━━━━━━━━━━━━━━━━━━━━━━━━━\u001b[0m \u001b[32m137.9/137.9 kB\u001b[0m \u001b[31m18.7 MB/s\u001b[0m eta \u001b[36m0:00:00\u001b[0m\n",
            "\u001b[2K     \u001b[90m━━━━━━━━━━━━━━━━━━━━━━━━━━━━━━━━━━━━━━━━\u001b[0m \u001b[32m54.3/54.3 kB\u001b[0m \u001b[31m7.6 MB/s\u001b[0m eta \u001b[36m0:00:00\u001b[0m\n",
            "\u001b[2K     \u001b[90m━━━━━━━━━━━━━━━━━━━━━━━━━━━━━━━━━━━━━━━━\u001b[0m \u001b[32m512.2/512.2 kB\u001b[0m \u001b[31m52.6 MB/s\u001b[0m eta \u001b[36m0:00:00\u001b[0m\n",
            "\u001b[2K     \u001b[90m━━━━━━━━━━━━━━━━━━━━━━━━━━━━━━━━━━━━━━━━\u001b[0m \u001b[32m62.7/62.7 kB\u001b[0m \u001b[31m9.2 MB/s\u001b[0m eta \u001b[36m0:00:00\u001b[0m\n",
            "\u001b[?25h\u001b[31mERROR: pip's dependency resolver does not currently take into account all the packages that are installed. This behaviour is the source of the following dependency conflicts.\n",
            "imageio 2.31.6 requires pillow<10.1.0,>=8.3.2, but you have pillow 10.1.0 which is incompatible.\u001b[0m\u001b[31m\n",
            "\u001b[0m"
          ]
        }
      ],
      "source": [
        "!git clone https://github.com/ultralytics/yolov5  # clone\n",
        "%cd yolov5\n",
        "%pip install -qr requirements.txt comet_ml  # install\n",
        "\n",
        "import torch\n",
        "import utils"
      ]
    },
    {
      "cell_type": "code",
      "execution_count": null,
      "metadata": {
        "id": "ec5vqTp-jVI9"
      },
      "outputs": [],
      "source": [
        "from utils.plots import plot_results\n",
        "\n",
        "plot_results('/content/drive/MyDrive/ThesisData/latestModel/results.csv')"
      ]
    },
    {
      "cell_type": "markdown",
      "metadata": {
        "id": "RmMEQ4NvH4Ba"
      },
      "source": [
        "## Model Export"
      ]
    },
    {
      "cell_type": "code",
      "execution_count": null,
      "metadata": {
        "id": "hYhsWGfBH-Ns",
        "colab": {
          "base_uri": "https://localhost:8080/"
        },
        "outputId": "0bfe11b2-b668-4742-81d3-cfb45cabf245"
      },
      "outputs": [
        {
          "output_type": "stream",
          "name": "stdout",
          "text": [
            "  adding: content/runs/ (stored 0%)\n",
            "  adding: content/runs/detect/ (stored 0%)\n",
            "  adding: content/runs/detect/train/ (stored 0%)\n",
            "  adding: content/runs/detect/train/results.png (deflated 8%)\n",
            "  adding: content/runs/detect/train/train_batch13410.jpg (deflated 12%)\n",
            "  adding: content/runs/detect/train/P_curve.png (deflated 16%)\n",
            "  adding: content/runs/detect/train/weights/ (stored 0%)\n",
            "  adding: content/runs/detect/train/weights/last.pt (deflated 8%)\n",
            "  adding: content/runs/detect/train/weights/best.pt (deflated 8%)\n",
            "  adding: content/runs/detect/train/confusion_matrix.png (deflated 35%)\n",
            "  adding: content/runs/detect/train/events.out.tfevents.1701215482.c521ef01cd44.689.0 (deflated 76%)\n",
            "  adding: content/runs/detect/train/confusion_matrix_normalized.png (deflated 34%)\n",
            "  adding: content/runs/detect/train/F1_curve.png (deflated 16%)\n",
            "  adding: content/runs/detect/train/train_batch13411.jpg (deflated 6%)\n",
            "  adding: content/runs/detect/train/model_artifacts.json (deflated 65%)\n",
            "  adding: content/runs/detect/train/train_batch13412.jpg (deflated 12%)\n",
            "  adding: content/runs/detect/train/labels_correlogram.jpg (deflated 37%)\n",
            "  adding: content/runs/detect/train/train_batch2.jpg (deflated 4%)\n",
            "  adding: content/runs/detect/train/val_batch0_pred.jpg (deflated 7%)\n",
            "  adding: content/runs/detect/train/results.csv (deflated 85%)\n",
            "  adding: content/runs/detect/train/val_batch2_pred.jpg (deflated 5%)\n",
            "  adding: content/runs/detect/train/train_batch1.jpg (deflated 6%)\n",
            "  adding: content/runs/detect/train/val_batch2_labels.jpg (deflated 5%)\n",
            "  adding: content/runs/detect/train/val_batch0_labels.jpg (deflated 7%)\n",
            "  adding: content/runs/detect/train/R_curve.png (deflated 17%)\n",
            "  adding: content/runs/detect/train/state_dict.pt (deflated 8%)\n",
            "  adding: content/runs/detect/train/val_batch1_labels.jpg (deflated 4%)\n",
            "  adding: content/runs/detect/train/train_batch0.jpg (deflated 6%)\n",
            "  adding: content/runs/detect/train/args.yaml (deflated 51%)\n",
            "  adding: content/runs/detect/train/roboflow_deploy.zip (stored 0%)\n",
            "  adding: content/runs/detect/train/val_batch1_pred.jpg (deflated 4%)\n",
            "  adding: content/runs/detect/train/labels.jpg (deflated 31%)\n",
            "  adding: content/runs/detect/train/PR_curve.png (deflated 21%)\n"
          ]
        }
      ],
      "source": [
        "!zip -r /content/runs.zip /content/runs/"
      ]
    },
    {
      "cell_type": "markdown",
      "metadata": {
        "id": "MVO1gfLv9FCF"
      },
      "source": [
        "# Deploy Your Model to the Edge\n",
        "\n",
        "In addition to using the Roboflow hosted API for deployment, you can use [Roboflow Inference](https://inference.roboflow.com), an open source inference solution that has powered millions of API calls in production environments. Inference works with CPU and GPU, giving you immediate access to a range of devices, from the NVIDIA Jetson to TRT-compatible devices to ARM CPU devices.\n",
        "\n",
        "With Roboflow Inference, you can self-host and deploy your model on-device. You can deploy applications using the [Inference Docker containers](https://inference.roboflow.com/quickstart/docker/) or the pip package.\n",
        "\n",
        "For example, to install Inference on a device with an NVIDIA GPU, we can use:\n",
        "\n",
        "```\n",
        "docker pull roboflow/roboflow-inference-server-gpu\n",
        "```\n",
        "\n",
        "Then we can run inference via HTTP:\n",
        "\n",
        "```python\n",
        "import requests\n",
        "\n",
        "workspace_id = \"\"\n",
        "model_id = \"\"\n",
        "image_url = \"\"\n",
        "confidence = 0.75\n",
        "api_key = \"\"\n",
        "\n",
        "infer_payload = {\n",
        "    \"image\": {\n",
        "        \"type\": \"url\",\n",
        "        \"value\": image_url,\n",
        "    },\n",
        "    \"confidence\": confidence,\n",
        "    \"iou_threshold\": iou_thresh,\n",
        "    \"api_key\": api_key,\n",
        "}\n",
        "res = requests.post(\n",
        "    f\"http://localhost:9001/{workspace_id}/{model_id}\",\n",
        "    json=infer_object_detection_payload,\n",
        ")\n",
        "\n",
        "predictions = res.json()\n",
        "```\n",
        "\n",
        "Above, set your Roboflow workspace ID, model ID, and API key.\n",
        "\n",
        "- [Find your workspace and model ID](https://docs.roboflow.com/api-reference/workspace-and-project-ids?ref=blog.roboflow.com)\n",
        "- [Find your API key](https://docs.roboflow.com/api-reference/authentication?ref=blog.roboflow.com#retrieve-an-api-key)\n",
        "\n",
        "Also, set the URL of an image on which you want to run inference. This can be a local file.\n",
        "\n",
        "_To use your YOLOv5 model commercially with Inference, you will need a Roboflow Enterprise license, through which you gain a pass-through license for using YOLOv5. An enterprise license also grants you access to features like advanced device management, multi-model containers, auto-batch inference, and more._"
      ]
    }
  ],
  "metadata": {
    "accelerator": "GPU",
    "colab": {
      "provenance": [],
      "gpuType": "T4"
    },
    "kernelspec": {
      "display_name": "Python 3",
      "name": "python3"
    },
    "language_info": {
      "name": "python"
    }
  },
  "nbformat": 4,
  "nbformat_minor": 0
}